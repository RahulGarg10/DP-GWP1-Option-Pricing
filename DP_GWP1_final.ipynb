{
  "nbformat": 4,
  "nbformat_minor": 0,
  "metadata": {
    "colab": {
      "provenance": []
    },
    "kernelspec": {
      "name": "python3",
      "display_name": "Python 3"
    },
    "language_info": {
      "name": "python"
    }
  },
  "cells": [
    {
      "cell_type": "code",
      "source": [
        "import pandas as pd\n",
        "import numpy as np\n",
        "import matplotlib.pyplot as plt"
      ],
      "metadata": {
        "id": "XIIJI_XQy6r_"
      },
      "execution_count": 1,
      "outputs": []
    },
    {
      "cell_type": "markdown",
      "source": [
        "# **Pricing European calls and puts using a binomial tree:**\n",
        "**Given Conditions:** \\\\\n",
        "$S_0$ = 100;\n",
        "$\\ $ r = 5%;\n",
        "$\\ $  σ = 20%;\n",
        "$\\ $ T = 3 months;\n",
        "$\\ $ Moneyness = ATM\n",
        "\n",
        "\n"
      ],
      "metadata": {
        "id": "1HhDEAffuHlu"
      }
    },
    {
      "cell_type": "code",
      "execution_count": 2,
      "metadata": {
        "id": "OeRwH9n9rhE5"
      },
      "outputs": [],
      "source": [
        "def european_option(S_ini, K, T, r, sigma, N, opttype):\n",
        "    \"\"\"\n",
        "    Price an European call or put using a binomial tree.\n",
        "\n",
        "    Parameters:\n",
        "    S_ini : float   - initial stock price\n",
        "    K     : float   - strike price\n",
        "    T     : float   - time to maturity (years)\n",
        "    r     : float   - risk-free interest rate\n",
        "    sigma : float   - volatility\n",
        "    N     : int     - number of time steps\n",
        "    opttype: str    - 'C' for call, 'P' for put\n",
        "\n",
        "    Returns:\n",
        "    C[0,0]       : float    - the option price at t=0\n",
        "    C            : 2D array  - option values at each node\n",
        "    S            : 2D array  - underlying asset prices at each node\n",
        "    Delta        : 2D array - delta at each node\n",
        "    \"\"\"\n",
        "    dt = T / N  # Define time step\n",
        "    u = np.exp(sigma * np.sqrt(dt))  # Define u\n",
        "    d = np.exp(-sigma * np.sqrt(dt))  # Define d\n",
        "    p = (np.exp(r * dt) - d) / (u - d)  # risk neutral probs\n",
        "    C = np.zeros([N + 1, N + 1])  # call prices\n",
        "    S = np.zeros([N + 1, N + 1])  # underlying price\n",
        "    Delta = np.zeros([N, N])  # delta\n",
        "\n",
        "    for i in range(0, N + 1):\n",
        "        S[N, i] = S_ini * (u ** (i)) * (d ** (N - i))\n",
        "        if opttype == \"C\":\n",
        "            C[N, i] = max(S[N, i] - K, 0)\n",
        "        else:\n",
        "            C[N, i] = max(K - S[N, i], 0)\n",
        "\n",
        "    for j in range(N - 1, -1, -1):\n",
        "        for i in range(0, j + 1):\n",
        "            C[j, i] = np.exp(-r * dt) * (\n",
        "                p * C[j + 1, i + 1] + (1 - p) * C[j + 1, i]\n",
        "            )  # Computing the European option prices\n",
        "            S[j, i] = (\n",
        "                S_ini * (u ** (i)) * (d ** (j - i))\n",
        "            )  # Underlying evolution for each node\n",
        "\n",
        "            Delta[j, i] = (C[j + 1, i + 1] - C[j + 1, i]) / (\n",
        "                S[j + 1, i + 1] - S[j + 1, i]\n",
        "            )  # Computing the delta for each node\n",
        "\n",
        "    return C[0, 0], C, S, Delta"
      ]
    },
    {
      "cell_type": "markdown",
      "source": [
        "## 1. Finding appropriate no. of steps \"N\"\n",
        "\n"
      ],
      "metadata": {
        "id": "8pxsy81nzkx_"
      }
    },
    {
      "cell_type": "code",
      "source": [
        "# Finding appropriate no. of steps \"N\"\n",
        "price_array = []\n",
        "steps=[1]\n",
        "for X in range(100,2100,100):\n",
        "  steps.append(X)\n",
        "for N in steps:\n",
        "    price_call, call, S_call, delta_call = european_option(\n",
        "    100, 100, 3/12, 0.05, 0.20,  N, \"C\"\n",
        "     )\n",
        "    price_array.append(price_call)\n",
        "\n",
        "\n"
      ],
      "metadata": {
        "id": "k61dL6akzi0o"
      },
      "execution_count": 3,
      "outputs": []
    },
    {
      "cell_type": "code",
      "source": [
        "# Plotting the N vs Call Price graph\n",
        "plt.figure(figsize=(12,4))\n",
        "plt.plot(steps, np.array(price_array))\n",
        "plt.xticks(steps)\n",
        "plt.title(\"Convergency with steps\")\n",
        "plt.xlabel(\"Number of steps (N)\")\n",
        "plt.ylabel(\"Option Price\")\n",
        "plt.grid(True)\n",
        "plt.show()"
      ],
      "metadata": {
        "colab": {
          "base_uri": "https://localhost:8080/",
          "height": 410
        },
        "id": "Yq8Rq1_v9syS",
        "outputId": "272c114f-8f3b-4f83-8ed7-dfd0badb5790"
      },
      "execution_count": 4,
      "outputs": [
        {
          "output_type": "display_data",
          "data": {
            "text/plain": [
              "<Figure size 1200x400 with 1 Axes>"
            ],
            "image/png": "[encoded data removed]"
          },
          "metadata": {}
        }
      ]
    },
    {
      "cell_type": "markdown",
      "source": [
        "\n",
        "##2. Pricing European Call and Put\n",
        "Now that we got N = 100 at which prices start convergiing, we can price European call and put using binomial tree as follows:\n",
        "\n",
        "\n"
      ],
      "metadata": {
        "id": "hG8hGlcMC0--"
      }
    },
    {
      "cell_type": "code",
      "source": [
        "price_call, call, S_call, delta_call = european_option(100, 100, 3/12, 0.05, 0.20,  100, \"C\")\n",
        "price_put, put, S_put, delta_put = european_option(100, 100, 3/12, 0.05, 0.20,  100, \"P\")\n",
        "print(f\"European Call Price = {price_call:.2f}\")\n",
        "print(f\"European Put Price = {price_put:.2f}\")"
      ],
      "metadata": {
        "colab": {
          "base_uri": "https://localhost:8080/"
        },
        "id": "a9WAjTgrDVq0",
        "outputId": "57481fe8-ea6a-4ccb-a642-35db1b83dadf"
      },
      "execution_count": 5,
      "outputs": [
        {
          "output_type": "stream",
          "name": "stdout",
          "text": [
            "European Call Price = 4.61\n",
            "European Put Price = 3.36\n"
          ]
        }
      ]
    },
    {
      "cell_type": "code",
      "source": [
        "S_call[0,0]==S_put[0,0]"
      ],
      "metadata": {
        "colab": {
          "base_uri": "https://localhost:8080/"
        },
        "id": "LzMAab6wGl24",
        "outputId": "dcd99e0b-51ff-4d13-9a21-5f7c45728a2a"
      },
      "execution_count": 6,
      "outputs": [
        {
          "output_type": "execute_result",
          "data": {
            "text/plain": [
              "np.True_"
            ]
          },
          "metadata": {},
          "execution_count": 6
        }
      ]
    },
    {
      "cell_type": "markdown",
      "source": [
        "\n",
        "## 3. Put-Call Parity\n",
        "Now we will check whether Put-Call parity equation is satisfied as follows:\n",
        "\n"
      ],
      "metadata": {
        "id": "D1fQUu9tEc2g"
      }
    },
    {
      "cell_type": "code",
      "source": [
        "round(price_call + 100 * np.exp(-0.05 * 3/12), 2) == round(S_call[0, 0] + price_put, 2)"
      ],
      "metadata": {
        "colab": {
          "base_uri": "https://localhost:8080/"
        },
        "id": "bDYJDBoOEt84",
        "outputId": "46d966e6-5343-42f4-bab3-e4775a6d6355"
      },
      "execution_count": 7,
      "outputs": [
        {
          "output_type": "execute_result",
          "data": {
            "text/plain": [
              "np.True_"
            ]
          },
          "metadata": {},
          "execution_count": 7
        }
      ]
    },
    {
      "cell_type": "markdown",
      "source": [
        "\n",
        "We can see that Put-call parity holds for the European options.\n",
        "\n",
        "## 4. Greek Δ at t=0 for European options\n",
        " **Now we calulate delta, Δ at time, t = 0 for European Call and Put**\n",
        "\n",
        "\n",
        "\n",
        "\n",
        "\n",
        "\n",
        "\n",
        "\n",
        "\n"
      ],
      "metadata": {
        "id": "SHHlRpp2G-hg"
      }
    },
    {
      "cell_type": "code",
      "source": [
        "print(\"European Call Delta = \",round(delta_call[0,0],2))\n",
        "print(\"European Put Delta = \",round(delta_put[0,0],2))"
      ],
      "metadata": {
        "colab": {
          "base_uri": "https://localhost:8080/"
        },
        "id": "N_mHAfCYHG-2",
        "outputId": "adc273eb-4d65-4b2b-9586-4ca18cd8aaa3"
      },
      "execution_count": 8,
      "outputs": [
        {
          "output_type": "stream",
          "name": "stdout",
          "text": [
            "European Call Delta =  0.57\n",
            "European Put Delta =  -0.43\n"
          ]
        }
      ]
    },
    {
      "cell_type": "markdown",
      "source": [
        "Delta, Δ at time, t = 0 for European Call and Put is **0.57 and -0.43** respectively."
      ],
      "metadata": {
        "id": "SHY3HqoHiikZ"
      }
    },
    {
      "cell_type": "markdown",
      "source": [
        "## 5. Sensitivity of the European option price to the underlying volatility (vega)\n",
        "vega, $ⱽ = \\frac{C_0,σ_1 - C_0,σ_0 }{Δ\\sigma}$\n",
        "\n",
        "where,\n",
        "$Δ\\sigma = \\sigma_1 - \\sigma_0$\n",
        "\n",
        "Now, we calculae vega i.e sensitivity of previous put and call option prices to a 5% increase in volatility (from 20% to 25%).\n",
        "\n",
        "\n",
        "\n"
      ],
      "metadata": {
        "id": "9bI-rHrKj_M5"
      }
    },
    {
      "cell_type": "code",
      "source": [
        "# Pricing European Options at volatility = 20%\n",
        "price_call_20, call, S_call, delta_call = european_option(100, 100, 3/12, 0.05, 0.20,  100, \"C\")\n",
        "price_put_20, put, S_put, delta_put = european_option(100, 100, 3/12, 0.05, 0.20,  100, \"P\")\n",
        "print(f\"European Call Price at volatility 20% = {price_call_20:.2f}\")\n",
        "print(f\"European Put Price at volatility 20% = {price_put_20:.2f}\")\n",
        "\n",
        "# Pricing European Options at volatility = 25%\n",
        "price_call_25, call, S_call, delta_call = european_option(100, 100, 3/12, 0.05, 0.25,  100, \"C\")\n",
        "price_put_25, put, S_put, delta_put = european_option(100, 100, 3/12, 0.05, 0.25,  100, \"P\")\n",
        "print(f\"European Call Price at volatility 25% = {price_call_25:.2f}\")\n",
        "print(f\"European Put Price at volatility 25% = {price_put_25:.2f}\")"
      ],
      "metadata": {
        "colab": {
          "base_uri": "https://localhost:8080/"
        },
        "id": "3aL26HZtvLIM",
        "outputId": "63bbebe6-720e-4d9d-8f88-bd708ce0e7ed"
      },
      "execution_count": 9,
      "outputs": [
        {
          "output_type": "stream",
          "name": "stdout",
          "text": [
            "European Call Price at volatility 20% = 4.61\n",
            "European Put Price at volatility 20% = 3.36\n",
            "European Call Price at volatility 25% = 5.59\n",
            "European Put Price at volatility 25% = 4.34\n"
          ]
        }
      ]
    },
    {
      "cell_type": "code",
      "source": [
        "# Vega for call and Put option\n",
        "vega_call = round((price_call_25 - price_call_20)/0.05,2)\n",
        "vega_put = round((price_put_25 - price_put_20)/0.05,2)\n",
        "print(\"Vega for European call = \", vega_call)\n",
        "print(\"Vega for European put = \", vega_put)"
      ],
      "metadata": {
        "colab": {
          "base_uri": "https://localhost:8080/"
        },
        "id": "vQNQWiV3i5lg",
        "outputId": "ea2207a5-f0d9-42e0-b221-7873e0842ec8"
      },
      "execution_count": 10,
      "outputs": [
        {
          "output_type": "stream",
          "name": "stdout",
          "text": [
            "Vega for European call =  19.62\n",
            "Vega for European put =  19.62\n"
          ]
        }
      ]
    },
    {
      "cell_type": "markdown",
      "source": [
        "The vega for both European options come out to be 19.62% for increase in volatility from 20% to 25%. While the prices of both options increases with increase in volatility."
      ],
      "metadata": {
        "id": "qMbw7XXyy9A8"
      }
    },
    {
      "cell_type": "markdown",
      "source": [
        "# **Pricing American calls and puts using a binomial tree:**\n",
        "**Given Conditions:** \\\\\n",
        "$S_0$ = 100;\n",
        "$\\ $ r = 5%;\n",
        "$\\ $  σ = 20%;\n",
        "$\\ $ T = 3 months;\n",
        "$\\ $ Moneyness = ATM"
      ],
      "metadata": {
        "id": "yjKrQEEFPaD0"
      }
    },
    {
      "cell_type": "code",
      "source": [
        "def american_option(S_ini, K, T, r, sigma, N, opttype):\n",
        "    \"\"\"\n",
        "    Price an American call or put using a binomial tree.\n",
        "\n",
        "    Parameters:\n",
        "    S_ini : float   - initial stock price\n",
        "    K     : float   - strike price\n",
        "    T     : float   - time to maturity (years)\n",
        "    r     : float   - risk-free interest rate\n",
        "    sigma : float   - volatility\n",
        "    N     : int     - number of time steps\n",
        "    opttype: str    - 'C' for call, 'P' for put\n",
        "\n",
        "    Returns:\n",
        "    C[0,0]       : float    - the option price at t=0\n",
        "    C            : 2D array  - option values at each node\n",
        "    S            : 2D array  - underlying asset prices at each node\n",
        "    Delta        : 2D array - delta at each node\n",
        "    \"\"\"\n",
        "    dt = T / N  # Define time step\n",
        "    u = np.exp(sigma * np.sqrt(dt))  # Define u\n",
        "    d = np.exp(-sigma * np.sqrt(dt))  # Define d\n",
        "    p = (np.exp(r * dt) - d) / (u - d)  # risk neutral probs\n",
        "    C = np.zeros([N + 1, N + 1])  # call prices\n",
        "    S = np.zeros([N + 1, N + 1])  # underlying price\n",
        "    Delta = np.zeros([N, N])  # delta\n",
        "\n",
        "    for i in range(0, N + 1):\n",
        "        S[N, i] = S_ini * (u ** (i)) * (d ** (N - i))\n",
        "        if opttype == \"C\":\n",
        "            C[N, i] = max(S[N, i] - K, 0)\n",
        "        else:\n",
        "            C[N, i] = max(K - S[N, i], 0)\n",
        "\n",
        "    for j in range(N - 1, -1, -1):\n",
        "        for i in range(0, j + 1):\n",
        "            C[j, i] = np.exp(-r * dt) * (\n",
        "                p * C[j + 1, i + 1] + (1 - p) * C[j + 1, i]\n",
        "            )  # Computing the European option prices\n",
        "            S[j, i] = (\n",
        "                S_ini * (u ** (i)) * (d ** (j - i))\n",
        "            )  # Underlying evolution for each node\n",
        "            if opttype == \"C\":\n",
        "                C[j, i] = max(\n",
        "                    C[j, i], S[j, i] - K\n",
        "                )  # Decision between the European option price and the payoff from early-exercise\n",
        "            else:\n",
        "                C[j, i] = max(\n",
        "                    C[j, i], K - S[j, i]\n",
        "                )  # Decision between the European option price and the payoff from early-exercise\n",
        "\n",
        "            Delta[j, i] = (C[j + 1, i + 1] - C[j + 1, i]) / (\n",
        "                S[j + 1, i + 1] - S[j + 1, i]\n",
        "            )  # Computing the delta for each node\n",
        "\n",
        "    return C[0, 0], C, S, Delta\n"
      ],
      "metadata": {
        "id": "eSCxs5DOPzEL"
      },
      "execution_count": 11,
      "outputs": []
    },
    {
      "cell_type": "markdown",
      "source": [
        "## 1. Finding appropriate no. of steps \"N\""
      ],
      "metadata": {
        "id": "24m4ngm4S5RN"
      }
    },
    {
      "cell_type": "code",
      "source": [
        "# Finding appropriate no. of steps \"N\"\n",
        "price_array_am = []\n",
        "steps_am=[1]\n",
        "for X in range(50,1050,50):\n",
        "  steps_am.append(X)\n",
        "for N in steps:\n",
        "    price_call_am, call_am, S_call_am, delta_call_am = american_option(\n",
        "    100, 100, 3/12, 0.05, 0.20,  N, \"C\"\n",
        "     )\n",
        "    price_array_am.append(price_call_am)"
      ],
      "metadata": {
        "id": "L5F9ySloTJDX"
      },
      "execution_count": 12,
      "outputs": []
    },
    {
      "cell_type": "code",
      "source": [
        "# Plotting the N vs Call Price graph\n",
        "plt.figure(figsize=(12,4))\n",
        "plt.plot(steps_am, np.array(price_array_am))\n",
        "plt.xticks(steps_am)\n",
        "plt.title(\"Convergency with steps\")\n",
        "plt.xlabel(\"Number of steps (N)\")\n",
        "plt.ylabel(\"Option Price\")\n",
        "plt.grid(True)\n",
        "plt.show()"
      ],
      "metadata": {
        "colab": {
          "base_uri": "https://localhost:8080/",
          "height": 410
        },
        "id": "jKcL-SEqUKWI",
        "outputId": "fdc3e25e-a287-4579-acb0-b41c1e6ae812"
      },
      "execution_count": 13,
      "outputs": [
        {
          "output_type": "display_data",
          "data": {
            "text/plain": [
              "<Figure size 1200x400 with 1 Axes>"
            ],
            "image/png": "[encoded data removed]"
          },
          "metadata": {}
        }
      ]
    },
    {
      "cell_type": "markdown",
      "source": [
        "##2. Pricing American Call and Put\n",
        "Now that we got N = 100 at which prices start convergiing, we can price European call and put using binomial tree as follows:"
      ],
      "metadata": {
        "id": "ZMmSU_GpUTQt"
      }
    },
    {
      "cell_type": "code",
      "source": [
        "price_call_am, call_am, S_call_am, delta_call_am = american_option(100, 100, 3/12, 0.05, 0.20,  100, \"C\")\n",
        "price_put_am, put_am, S_put_am, delta_put_am = american_option(100, 100, 3/12, 0.05, 0.20,  100, \"P\")\n",
        "print(f\"American Call Price = {price_call_am:.2f}\")\n",
        "print(f\"American Put Price = {price_put_am:.2f}\")"
      ],
      "metadata": {
        "colab": {
          "base_uri": "https://localhost:8080/"
        },
        "id": "CvYTnCI_UeMD",
        "outputId": "adbc769f-f8ff-4f96-a179-b298e3fd6021"
      },
      "execution_count": 14,
      "outputs": [
        {
          "output_type": "stream",
          "name": "stdout",
          "text": [
            "American Call Price = 4.61\n",
            "American Put Price = 3.47\n"
          ]
        }
      ]
    },
    {
      "cell_type": "markdown",
      "source": [
        "## 3. Greek Δ at t=0 for American options\n",
        " **Now we calulate delta, Δ at time, t = 0 for American Call and Put**"
      ],
      "metadata": {
        "id": "GUZ0hSAQYqHx"
      }
    },
    {
      "cell_type": "code",
      "source": [
        "print(\"American Call Delta = \",round(delta_call_am[0,0],2))\n",
        "print(\"American Put Delta = \",round(delta_put_am[0,0],2))"
      ],
      "metadata": {
        "colab": {
          "base_uri": "https://localhost:8080/"
        },
        "id": "rs-tRsllYuo0",
        "outputId": "39cb8698-d614-40a3-9881-ad5771083ccc"
      },
      "execution_count": 15,
      "outputs": [
        {
          "output_type": "stream",
          "name": "stdout",
          "text": [
            "American Call Delta =  0.57\n",
            "American Put Delta =  -0.45\n"
          ]
        }
      ]
    },
    {
      "cell_type": "markdown",
      "source": [
        "Delta, Δ at time, t = 0 for American Call and Put is **0.57 and -0.45** respectively."
      ],
      "metadata": {
        "id": "dWhOc3LSZZAC"
      }
    },
    {
      "cell_type": "markdown",
      "source": [
        "## 4. Sensitivity of the American option price to the underlying volatility (vega)\n",
        "vega, $ⱽ = \\frac{C_0,σ_1 - C_0,σ_0 }{Δ\\sigma}$\n",
        "\n",
        "where,\n",
        "$Δ\\sigma = \\sigma_1 - \\sigma_0$\n",
        "\n",
        "Now, we calculae vega i.e sensitivity of previous put and call option prices to a 5% increase in volatility (from 20% to 25%)."
      ],
      "metadata": {
        "id": "NS-LvX4EaOlu"
      }
    },
    {
      "cell_type": "code",
      "source": [
        "# Pricing American Options at volatility = 20%\n",
        "amprice_call_20, amcall, amS_call, amdelta_call = american_option(100, 100, 3/12, 0.05, 0.20,  100, \"C\")\n",
        "amprice_put_20, amput, amS_put, amdelta_put = american_option(100, 100, 3/12, 0.05, 0.20,  100, \"P\")\n",
        "print(f\"American Call Price at volatility 20% = {amprice_call_20:.2f}\")\n",
        "print(f\"American Put Price at volatility 20% = {amprice_put_20:.2f}\")\n",
        "\n",
        "# Pricing American Options at volatility = 25%\n",
        "amprice_call_25, amcall, amS_call, amdelta_call = american_option(100, 100, 3/12, 0.05, 0.25,  100, \"C\")\n",
        "amprice_put_25, amput, amS_put, amdelta_put = american_option(100, 100, 3/12, 0.05, 0.25,  100, \"P\")\n",
        "print(f\"American Call Price at volatility 25% = {price_call_25:.2f}\")\n",
        "print(f\"American Put Price at volatility 25% = {price_put_25:.2f}\")"
      ],
      "metadata": {
        "colab": {
          "base_uri": "https://localhost:8080/"
        },
        "id": "lQf8T_rfZjp1",
        "outputId": "380596f9-4934-43cf-c940-1abeae3f21ec"
      },
      "execution_count": 16,
      "outputs": [
        {
          "output_type": "stream",
          "name": "stdout",
          "text": [
            "American Call Price at volatility 20% = 4.61\n",
            "American Put Price at volatility 20% = 3.47\n",
            "American Call Price at volatility 25% = 5.59\n",
            "American Put Price at volatility 25% = 4.34\n"
          ]
        }
      ]
    },
    {
      "cell_type": "code",
      "source": [
        "# Vega for call and Put option\n",
        "vega_call = round((amprice_call_25 - amprice_call_20)/0.05,2)\n",
        "vega_put = round((amprice_put_25 - amprice_put_20)/0.05,2)\n",
        "print(\"Vega for American call = \", vega_call)\n",
        "print(\"Vega for American put = \", vega_put)"
      ],
      "metadata": {
        "colab": {
          "base_uri": "https://localhost:8080/"
        },
        "id": "xqUtpPFscOu0",
        "outputId": "cc371ea2-1fa6-4528-97b7-044e61dafd41"
      },
      "execution_count": 17,
      "outputs": [
        {
          "output_type": "stream",
          "name": "stdout",
          "text": [
            "Vega for American call =  19.62\n",
            "Vega for American put =  19.57\n"
          ]
        }
      ]
    },
    {
      "cell_type": "markdown",
      "source": [
        "The vega for American call come out to be 19.62% whereas vega of American put is 19.57% for increase in volatility from 20% to 25%. While the prices of both options increases with increase in volatility."
      ],
      "metadata": {
        "id": "DL3M3HsyceVe"
      }
    },
    {
      "cell_type": "markdown",
      "source": [
        "# **Pricing American calls and puts using a trinomial tree:**\n",
        "**Given Conditions:** \\\\\n",
        "$S_0$ = 100; \\\\\n",
        "$\\ $r = 5% \\\\\n",
        "$\\ $σ = 20% \\\\\n",
        "$\\ $T = 3 months \\\\\n",
        "$\\ $N = 100 (same as obtained in previous step for simplicity) \\\\\n",
        "$\\ $Moneyness = 90%, 95%, ATM, 105%,\n",
        "110% of moneyness = K/S0:"
      ],
      "metadata": {
        "id": "3gnK0RYO66x7"
      }
    },
    {
      "cell_type": "code",
      "source": [
        "def _gen_stock_vec(S_ini,sigma,nb, h):\n",
        "\n",
        "    up = np.exp(sigma * np.sqrt(2 * h))\n",
        "    down = 1 / up  # down movement to force a \"recombining tree\"\n",
        "\n",
        "    vec_u = up * np.ones(nb)\n",
        "    np.cumprod(vec_u, out=vec_u)  # Computing u, u^2, u^3....u^nb\n",
        "\n",
        "    vec_d = down * np.ones(nb)\n",
        "    np.cumprod(vec_d, out=vec_d)  # Computing d, d^2, d^3....d^nb\n",
        "\n",
        "    res = np.concatenate(\n",
        "        (vec_d[::-1], [1.0], vec_u)\n",
        "    )  # putting together the last period tree underlyings\n",
        "    res *= S_ini\n",
        "    return res\n"
      ],
      "metadata": {
        "id": "_zg7oDVT_es6"
      },
      "execution_count": 18,
      "outputs": []
    },
    {
      "cell_type": "code",
      "source": [
        "def american_tri_option(S_ini, K, T, r, sigma, nb_steps, opttype):\n",
        "    \"\"\"\n",
        "    Price an American call or put using a binomial tree.\n",
        "\n",
        "    Parameters:\n",
        "    S_ini : float   - initial stock price\n",
        "    K     : float   - strike price\n",
        "    T     : float   - time to maturity (years)\n",
        "    r     : float   - risk-free interest rate\n",
        "    sigma : float   - volatility\n",
        "    nb_steps     : int     - number of time steps\n",
        "    opttype: str    - 'C' for call, 'P' for put\n",
        "\n",
        "    Returns:\n",
        "    nxt_vec_prices[0]       : float    - the option price at t=0\n",
        "\n",
        "    \"\"\"\n",
        "\n",
        "    h = T / nb_steps  # This would be our 'dt' from previous examples\n",
        "    discount = np.exp(-r * h)  # Define discount factor for simplicity later on\n",
        "\n",
        "    # Define risk-neutral probabilities:\n",
        "    pu = (\n",
        "        (np.exp(r * h / 2) - np.exp(-sigma * np.sqrt(h / 2)))\n",
        "        / (np.exp(sigma * np.sqrt(h / 2)) - np.exp(-sigma * np.sqrt(h / 2)))\n",
        "    ) ** 2\n",
        "    pd = (\n",
        "        (-np.exp(r * h / 2) + np.exp(sigma * np.sqrt(h / 2)))\n",
        "        / (np.exp(sigma * np.sqrt(h / 2)) - np.exp(-sigma * np.sqrt(h / 2)))\n",
        "    ) ** 2\n",
        "    pm = 1 - pu - pd\n",
        "    #print(pu, pd, pm)\n",
        "    # This would be our underlying evolution (Note we are using the function from before!)\n",
        "    s = _gen_stock_vec(S_ini, sigma, nb_steps, h)\n",
        "\n",
        "    # Define Payoff (in this case, European Call Option)\n",
        "    # Define early exercise value of option at each node of tree\n",
        "    if opttype == \"C\": # Call\n",
        "        early_exercise_value = np.maximum(s - K, 0)\n",
        "    else: # Put\n",
        "        early_exercise_value = np.maximum(K - s, 0)\n",
        "    # Calculate option prices at each node of tree using backward induction\n",
        "    nxt_vec_prices = early_exercise_value\n",
        "\n",
        "    # Proceed with iterations for the calculation of payoffs\n",
        "    for i in range(1, nb_steps + 1):\n",
        "        vec_stock = _gen_stock_vec(S_ini, sigma,nb_steps - i, h)\n",
        "        expectation = np.zeros(vec_stock.size)\n",
        "\n",
        "        for j in range(expectation.size):\n",
        "            tmp = nxt_vec_prices[j] * pd\n",
        "            tmp += nxt_vec_prices[j + 1] * pm\n",
        "            tmp += nxt_vec_prices[j + 2] * pu\n",
        "            tmp = max(tmp,early_exercise_value[j])\n",
        "            expectation[j] = tmp\n",
        "        # Discount option payoff!\n",
        "        nxt_vec_prices = discount * expectation\n",
        "\n",
        "    return nxt_vec_prices[0]"
      ],
      "metadata": {
        "id": "vu702JU5D6P_"
      },
      "execution_count": 19,
      "outputs": []
    },
    {
      "cell_type": "code",
      "source": [
        "S0 = 100\n",
        "moneyness = S0 * np.array([0.9, 0.95, 1.0, 1.05, 1.10])\n",
        "moneyness"
      ],
      "metadata": {
        "colab": {
          "base_uri": "https://localhost:8080/"
        },
        "id": "eGeOKU0cZoU4",
        "outputId": "115dbb80-f660-47d1-fdea-17512bb05bce"
      },
      "execution_count": 20,
      "outputs": [
        {
          "output_type": "execute_result",
          "data": {
            "text/plain": [
              "array([ 90.,  95., 100., 105., 110.])"
            ]
          },
          "metadata": {},
          "execution_count": 20
        }
      ]
    },
    {
      "cell_type": "code",
      "source": [
        "american_call_price = []\n",
        "for K in moneyness:\n",
        "  price = round(american_tri_option(100,K,3/12,0.05,0.2, 100,'C'),2)\n",
        "  american_call_price.append(price)\n",
        "  print(\" Price of the American Call Option at K =\", round(K,1),\" is {:.2f}\".format(price))\n"
      ],
      "metadata": {
        "colab": {
          "base_uri": "https://localhost:8080/"
        },
        "id": "hFCPb8MRUTYK",
        "outputId": "895399be-2db8-4516-d473-5b1a7f2f01b3"
      },
      "execution_count": 21,
      "outputs": [
        {
          "output_type": "stream",
          "name": "stdout",
          "text": [
            " Price of the American Call Option at K = 90.0  is 11.67\n",
            " Price of the American Call Option at K = 95.0  is 7.72\n",
            " Price of the American Call Option at K = 100.0  is 4.61\n",
            " Price of the American Call Option at K = 105.0  is 2.48\n",
            " Price of the American Call Option at K = 110.0  is 1.19\n"
          ]
        }
      ]
    },
    {
      "cell_type": "code",
      "source": [
        "american_put_price = []\n",
        "for K in moneyness:\n",
        "  price = round(american_tri_option(100,K,3/12,0.05,0.2, 100,'P'),2)\n",
        "  american_put_price.append(price)\n",
        "  print(\" Price of the American Put Option at K =\", round(K,1),\" is {:.2f}\".format(price))"
      ],
      "metadata": {
        "colab": {
          "base_uri": "https://localhost:8080/"
        },
        "id": "PttDBkhOfHCW",
        "outputId": "78480af5-cc9a-4174-c11f-358441b6648a"
      },
      "execution_count": 22,
      "outputs": [
        {
          "output_type": "stream",
          "name": "stdout",
          "text": [
            " Price of the American Put Option at K = 90.0  is 65.68\n",
            " Price of the American Put Option at K = 95.0  is 70.68\n",
            " Price of the American Put Option at K = 100.0  is 75.68\n",
            " Price of the American Put Option at K = 105.0  is 80.68\n",
            " Price of the American Put Option at K = 110.0  is 85.68\n"
          ]
        }
      ]
    },
    {
      "cell_type": "code",
      "source": [
        "american_tri_df= pd.DataFrame({\n",
        "    'Strike Price': moneyness,\n",
        "    'Call Option Price': american_call_price,\n",
        "    'Put Option Price': american_put_price,\n",
        "    })"
      ],
      "metadata": {
        "id": "BDBFb7Oid4o9"
      },
      "execution_count": 23,
      "outputs": []
    },
    {
      "cell_type": "code",
      "source": [
        "american_tri_df"
      ],
      "metadata": {
        "colab": {
          "base_uri": "https://localhost:8080/",
          "height": 206
        },
        "id": "2uOJrXx9euFk",
        "outputId": "2e8de39e-2018-4edf-efef-680c32c287be"
      },
      "execution_count": 24,
      "outputs": [
        {
          "output_type": "execute_result",
          "data": {
            "text/plain": [
              "   Strike Price  Call Option Price  Put Option Price\n",
              "0          90.0              11.67             65.68\n",
              "1          95.0               7.72             70.68\n",
              "2         100.0               4.61             75.68\n",
              "3         105.0               2.48             80.68\n",
              "4         110.0               1.19             85.68"
            ],
            "text/html": [
              "\n",
              "  <div id=\"df-668949fd-de09-497e-8427-a036d2bbe877\" class=\"colab-df-container\">\n",
              "    <div>\n",
              "<style scoped>\n",
              "    .dataframe tbody tr th:only-of-type {\n",
              "        vertical-align: middle;\n",
              "    }\n",
              "\n",
              "    .dataframe tbody tr th {\n",
              "        vertical-align: top;\n",
              "    }\n",
              "\n",
              "    .dataframe thead th {\n",
              "        text-align: right;\n",
              "    }\n",
              "</style>\n",
              "<table border=\"1\" class=\"dataframe\">\n",
              "  <thead>\n",
              "    <tr style=\"text-align: right;\">\n",
              "      <th></th>\n",
              "      <th>Strike Price</th>\n",
              "      <th>Call Option Price</th>\n",
              "      <th>Put Option Price</th>\n",
              "    </tr>\n",
              "  </thead>\n",
              "  <tbody>\n",
              "    <tr>\n",
              "      <th>0</th>\n",
              "      <td>90.0</td>\n",
              "      <td>11.67</td>\n",
              "      <td>65.68</td>\n",
              "    </tr>\n",
              "    <tr>\n",
              "      <th>1</th>\n",
              "      <td>95.0</td>\n",
              "      <td>7.72</td>\n",
              "      <td>70.68</td>\n",
              "    </tr>\n",
              "    <tr>\n",
              "      <th>2</th>\n",
              "      <td>100.0</td>\n",
              "      <td>4.61</td>\n",
              "      <td>75.68</td>\n",
              "    </tr>\n",
              "    <tr>\n",
              "      <th>3</th>\n",
              "      <td>105.0</td>\n",
              "      <td>2.48</td>\n",
              "      <td>80.68</td>\n",
              "    </tr>\n",
              "    <tr>\n",
              "      <th>4</th>\n",
              "      <td>110.0</td>\n",
              "      <td>1.19</td>\n",
              "      <td>85.68</td>\n",
              "    </tr>\n",
              "  </tbody>\n",
              "</table>\n",
              "</div>\n",
              "    <div class=\"colab-df-buttons\">\n",
              "\n",
              "  <div class=\"colab-df-container\">\n",
              "    <button class=\"colab-df-convert\" onclick=\"convertToInteractive('df-668949fd-de09-497e-8427-a036d2bbe877')\"\n",
              "            title=\"Convert this dataframe to an interactive table.\"\n",
              "            style=\"display:none;\">\n",
              "\n",
              "  <svg xmlns=\"http://www.w3.org/2000/svg\" height=\"24px\" viewBox=\"0 -960 960 960\">\n",
              "    <path d=\"M120-120v-720h720v720H120Zm60-500h600v-160H180v160Zm220 220h160v-160H400v160Zm0 220h160v-160H400v160ZM180-400h160v-160H180v160Zm440 0h160v-160H620v160ZM180-180h160v-160H180v160Zm440 0h160v-160H620v160Z\"/>\n",
              "  </svg>\n",
              "    </button>\n",
              "\n",
              "  <style>\n",
              "    .colab-df-container {\n",
              "      display:flex;\n",
              "      gap: 12px;\n",
              "    }\n",
              "\n",
              "    .colab-df-convert {\n",
              "      background-color: #E8F0FE;\n",
              "      border: none;\n",
              "      border-radius: 50%;\n",
              "      cursor: pointer;\n",
              "      display: none;\n",
              "      fill: #1967D2;\n",
              "      height: 32px;\n",
              "      padding: 0 0 0 0;\n",
              "      width: 32px;\n",
              "    }\n",
              "\n",
              "    .colab-df-convert:hover {\n",
              "      background-color: #E2EBFA;\n",
              "      box-shadow: 0px 1px 2px rgba(60, 64, 67, 0.3), 0px 1px 3px 1px rgba(60, 64, 67, 0.15);\n",
              "      fill: #174EA6;\n",
              "    }\n",
              "\n",
              "    .colab-df-buttons div {\n",
              "      margin-bottom: 4px;\n",
              "    }\n",
              "\n",
              "    [theme=dark] .colab-df-convert {\n",
              "      background-color: #3B4455;\n",
              "      fill: #D2E3FC;\n",
              "    }\n",
              "\n",
              "    [theme=dark] .colab-df-convert:hover {\n",
              "      background-color: #434B5C;\n",
              "      box-shadow: 0px 1px 3px 1px rgba(0, 0, 0, 0.15);\n",
              "      filter: drop-shadow(0px 1px 2px rgba(0, 0, 0, 0.3));\n",
              "      fill: #FFFFFF;\n",
              "    }\n",
              "  </style>\n",
              "\n",
              "    <script>\n",
              "      const buttonEl =\n",
              "        document.querySelector('#df-668949fd-de09-497e-8427-a036d2bbe877 button.colab-df-convert');\n",
              "      buttonEl.style.display =\n",
              "        google.colab.kernel.accessAllowed ? 'block' : 'none';\n",
              "\n",
              "      async function convertToInteractive(key) {\n",
              "        const element = document.querySelector('#df-668949fd-de09-497e-8427-a036d2bbe877');\n",
              "        const dataTable =\n",
              "          await google.colab.kernel.invokeFunction('convertToInteractive',\n",
              "                                                    [key], {});\n",
              "        if (!dataTable) return;\n",
              "\n",
              "        const docLinkHtml = 'Like what you see? Visit the ' +\n",
              "          '<a target=\"_blank\" href=https://colab.research.google.com/notebooks/data_table.ipynb>data table notebook</a>'\n",
              "          + ' to learn more about interactive tables.';\n",
              "        element.innerHTML = '';\n",
              "        dataTable['output_type'] = 'display_data';\n",
              "        await google.colab.output.renderOutput(dataTable, element);\n",
              "        const docLink = document.createElement('div');\n",
              "        docLink.innerHTML = docLinkHtml;\n",
              "        element.appendChild(docLink);\n",
              "      }\n",
              "    </script>\n",
              "  </div>\n",
              "\n",
              "\n",
              "    <div id=\"df-2e469923-9f7b-476b-8671-b778e28c1f50\">\n",
              "      <button class=\"colab-df-quickchart\" onclick=\"quickchart('df-2e469923-9f7b-476b-8671-b778e28c1f50')\"\n",
              "                title=\"Suggest charts\"\n",
              "                style=\"display:none;\">\n",
              "\n",
              "<svg xmlns=\"http://www.w3.org/2000/svg\" height=\"24px\"viewBox=\"0 0 24 24\"\n",
              "     width=\"24px\">\n",
              "    <g>\n",
              "        <path d=\"M19 3H5c-1.1 0-2 .9-2 2v14c0 1.1.9 2 2 2h14c1.1 0 2-.9 2-2V5c0-1.1-.9-2-2-2zM9 17H7v-7h2v7zm4 0h-2V7h2v10zm4 0h-2v-4h2v4z\"/>\n",
              "    </g>\n",
              "</svg>\n",
              "      </button>\n",
              "\n",
              "<style>\n",
              "  .colab-df-quickchart {\n",
              "      --bg-color: #E8F0FE;\n",
              "      --fill-color: #1967D2;\n",
              "      --hover-bg-color: #E2EBFA;\n",
              "      --hover-fill-color: #174EA6;\n",
              "      --disabled-fill-color: #AAA;\n",
              "      --disabled-bg-color: #DDD;\n",
              "  }\n",
              "\n",
              "  [theme=dark] .colab-df-quickchart {\n",
              "      --bg-color: #3B4455;\n",
              "      --fill-color: #D2E3FC;\n",
              "      --hover-bg-color: #434B5C;\n",
              "      --hover-fill-color: #FFFFFF;\n",
              "      --disabled-bg-color: #3B4455;\n",
              "      --disabled-fill-color: #666;\n",
              "  }\n",
              "\n",
              "  .colab-df-quickchart {\n",
              "    background-color: var(--bg-color);\n",
              "    border: none;\n",
              "    border-radius: 50%;\n",
              "    cursor: pointer;\n",
              "    display: none;\n",
              "    fill: var(--fill-color);\n",
              "    height: 32px;\n",
              "    padding: 0;\n",
              "    width: 32px;\n",
              "  }\n",
              "\n",
              "  .colab-df-quickchart:hover {\n",
              "    background-color: var(--hover-bg-color);\n",
              "    box-shadow: 0 1px 2px rgba(60, 64, 67, 0.3), 0 1px 3px 1px rgba(60, 64, 67, 0.15);\n",
              "    fill: var(--button-hover-fill-color);\n",
              "  }\n",
              "\n",
              "  .colab-df-quickchart-complete:disabled,\n",
              "  .colab-df-quickchart-complete:disabled:hover {\n",
              "    background-color: var(--disabled-bg-color);\n",
              "    fill: var(--disabled-fill-color);\n",
              "    box-shadow: none;\n",
              "  }\n",
              "\n",
              "  .colab-df-spinner {\n",
              "    border: 2px solid var(--fill-color);\n",
              "    border-color: transparent;\n",
              "    border-bottom-color: var(--fill-color);\n",
              "    animation:\n",
              "      spin 1s steps(1) infinite;\n",
              "  }\n",
              "\n",
              "  @keyframes spin {\n",
              "    0% {\n",
              "      border-color: transparent;\n",
              "      border-bottom-color: var(--fill-color);\n",
              "      border-left-color: var(--fill-color);\n",
              "    }\n",
              "    20% {\n",
              "      border-color: transparent;\n",
              "      border-left-color: var(--fill-color);\n",
              "      border-top-color: var(--fill-color);\n",
              "    }\n",
              "    30% {\n",
              "      border-color: transparent;\n",
              "      border-left-color: var(--fill-color);\n",
              "      border-top-color: var(--fill-color);\n",
              "      border-right-color: var(--fill-color);\n",
              "    }\n",
              "    40% {\n",
              "      border-color: transparent;\n",
              "      border-right-color: var(--fill-color);\n",
              "      border-top-color: var(--fill-color);\n",
              "    }\n",
              "    60% {\n",
              "      border-color: transparent;\n",
              "      border-right-color: var(--fill-color);\n",
              "    }\n",
              "    80% {\n",
              "      border-color: transparent;\n",
              "      border-right-color: var(--fill-color);\n",
              "      border-bottom-color: var(--fill-color);\n",
              "    }\n",
              "    90% {\n",
              "      border-color: transparent;\n",
              "      border-bottom-color: var(--fill-color);\n",
              "    }\n",
              "  }\n",
              "</style>\n",
              "\n",
              "      <script>\n",
              "        async function quickchart(key) {\n",
              "          const quickchartButtonEl =\n",
              "            document.querySelector('#' + key + ' button');\n",
              "          quickchartButtonEl.disabled = true;  // To prevent multiple clicks.\n",
              "          quickchartButtonEl.classList.add('colab-df-spinner');\n",
              "          try {\n",
              "            const charts = await google.colab.kernel.invokeFunction(\n",
              "                'suggestCharts', [key], {});\n",
              "          } catch (error) {\n",
              "            console.error('Error during call to suggestCharts:', error);\n",
              "          }\n",
              "          quickchartButtonEl.classList.remove('colab-df-spinner');\n",
              "          quickchartButtonEl.classList.add('colab-df-quickchart-complete');\n",
              "        }\n",
              "        (() => {\n",
              "          let quickchartButtonEl =\n",
              "            document.querySelector('#df-2e469923-9f7b-476b-8671-b778e28c1f50 button');\n",
              "          quickchartButtonEl.style.display =\n",
              "            google.colab.kernel.accessAllowed ? 'block' : 'none';\n",
              "        })();\n",
              "      </script>\n",
              "    </div>\n",
              "\n",
              "  <div id=\"id_27bf2e39-b9f9-451f-b58a-5080080f89d5\">\n",
              "    <style>\n",
              "      .colab-df-generate {\n",
              "        background-color: #E8F0FE;\n",
              "        border: none;\n",
              "        border-radius: 50%;\n",
              "        cursor: pointer;\n",
              "        display: none;\n",
              "        fill: #1967D2;\n",
              "        height: 32px;\n",
              "        padding: 0 0 0 0;\n",
              "        width: 32px;\n",
              "      }\n",
              "\n",
              "      .colab-df-generate:hover {\n",
              "        background-color: #E2EBFA;\n",
              "        box-shadow: 0px 1px 2px rgba(60, 64, 67, 0.3), 0px 1px 3px 1px rgba(60, 64, 67, 0.15);\n",
              "        fill: #174EA6;\n",
              "      }\n",
              "\n",
              "      [theme=dark] .colab-df-generate {\n",
              "        background-color: #3B4455;\n",
              "        fill: #D2E3FC;\n",
              "      }\n",
              "\n",
              "      [theme=dark] .colab-df-generate:hover {\n",
              "        background-color: #434B5C;\n",
              "        box-shadow: 0px 1px 3px 1px rgba(0, 0, 0, 0.15);\n",
              "        filter: drop-shadow(0px 1px 2px rgba(0, 0, 0, 0.3));\n",
              "        fill: #FFFFFF;\n",
              "      }\n",
              "    </style>\n",
              "    <button class=\"colab-df-generate\" onclick=\"generateWithVariable('american_tri_df')\"\n",
              "            title=\"Generate code using this dataframe.\"\n",
              "            style=\"display:none;\">\n",
              "\n",
              "  <svg xmlns=\"http://www.w3.org/2000/svg\" height=\"24px\"viewBox=\"0 0 24 24\"\n",
              "       width=\"24px\">\n",
              "    <path d=\"M7,19H8.4L18.45,9,17,7.55,7,17.6ZM5,21V16.75L18.45,3.32a2,2,0,0,1,2.83,0l1.4,1.43a1.91,1.91,0,0,1,.58,1.4,1.91,1.91,0,0,1-.58,1.4L9.25,21ZM18.45,9,17,7.55Zm-12,3A5.31,5.31,0,0,0,4.9,8.1,5.31,5.31,0,0,0,1,6.5,5.31,5.31,0,0,0,4.9,4.9,5.31,5.31,0,0,0,6.5,1,5.31,5.31,0,0,0,8.1,4.9,5.31,5.31,0,0,0,12,6.5,5.46,5.46,0,0,0,6.5,12Z\"/>\n",
              "  </svg>\n",
              "    </button>\n",
              "    <script>\n",
              "      (() => {\n",
              "      const buttonEl =\n",
              "        document.querySelector('#id_27bf2e39-b9f9-451f-b58a-5080080f89d5 button.colab-df-generate');\n",
              "      buttonEl.style.display =\n",
              "        google.colab.kernel.accessAllowed ? 'block' : 'none';\n",
              "\n",
              "      buttonEl.onclick = () => {\n",
              "        google.colab.notebook.generateWithVariable('american_tri_df');\n",
              "      }\n",
              "      })();\n",
              "    </script>\n",
              "  </div>\n",
              "\n",
              "    </div>\n",
              "  </div>\n"
            ],
            "application/vnd.google.colaboratory.intrinsic+json": {
              "type": "dataframe",
              "variable_name": "american_tri_df",
              "summary": "{\n  \"name\": \"american_tri_df\",\n  \"rows\": 5,\n  \"fields\": [\n    {\n      \"column\": \"Strike Price\",\n      \"properties\": {\n        \"dtype\": \"number\",\n        \"std\": 7.905694150420953,\n        \"min\": 90.0,\n        \"max\": 110.00000000000001,\n        \"num_unique_values\": 5,\n        \"samples\": [\n          95.0,\n          110.00000000000001,\n          100.0\n        ],\n        \"semantic_type\": \"\",\n        \"description\": \"\"\n      }\n    },\n    {\n      \"column\": \"Call Option Price\",\n      \"properties\": {\n        \"dtype\": \"number\",\n        \"std\": 4.227295825938847,\n        \"min\": 1.19,\n        \"max\": 11.67,\n        \"num_unique_values\": 5,\n        \"samples\": [\n          7.72,\n          1.19,\n          4.61\n        ],\n        \"semantic_type\": \"\",\n        \"description\": \"\"\n      }\n    },\n    {\n      \"column\": \"Put Option Price\",\n      \"properties\": {\n        \"dtype\": \"number\",\n        \"std\": 7.905694150420948,\n        \"min\": 65.68,\n        \"max\": 85.68,\n        \"num_unique_values\": 5,\n        \"samples\": [\n          70.68,\n          85.68,\n          75.68\n        ],\n        \"semantic_type\": \"\",\n        \"description\": \"\"\n      }\n    }\n  ]\n}"
            }
          },
          "metadata": {},
          "execution_count": 24
        }
      ]
    },
    {
      "cell_type": "markdown",
      "source": [
        "We can see that as the strike price increases the price of American Call decreases whereas the price of American Put increases."
      ],
      "metadata": {
        "id": "T_MflxjPchse"
      }
    },
    {
      "cell_type": "markdown",
      "source": [
        "## 1. Put-Call Parity\n",
        "Now we will check whether Put-Call parity equation is satisfied for American options in trinomial tree for all 5 strike pricesas follows:\n"
      ],
      "metadata": {
        "id": "ShuT3oyps7Xi"
      }
    },
    {
      "cell_type": "code",
      "source": [
        "S_call_am = 100  # Underlying's price at t=0 which s0\n",
        "# S_call_eur == S_put_eur is true\n",
        "parity = round(\n",
        "  american_tri_df['Call Option Price'] + american_tri_df['Strike Price'] * np.exp(-0.05 * 3/12), 2) == round(S_call_am + american_tri_df['Put Option Price'],2)\n"
      ],
      "metadata": {
        "id": "d4Qgny7Xs8qy"
      },
      "execution_count": 25,
      "outputs": []
    },
    {
      "cell_type": "code",
      "source": [
        "american_tri_df['Parity'] = parity\n",
        "american_tri_df"
      ],
      "metadata": {
        "colab": {
          "base_uri": "https://localhost:8080/",
          "height": 206
        },
        "id": "AP9QJ5d3uFLx",
        "outputId": "d3623abe-7135-4840-8dcc-08d4990b9641"
      },
      "execution_count": 26,
      "outputs": [
        {
          "output_type": "execute_result",
          "data": {
            "text/plain": [
              "   Strike Price  Call Option Price  Put Option Price  Parity\n",
              "0          90.0              11.67             65.68   False\n",
              "1          95.0               7.72             70.68   False\n",
              "2         100.0               4.61             75.68   False\n",
              "3         105.0               2.48             80.68   False\n",
              "4         110.0               1.19             85.68   False"
            ],
            "text/html": [
              "\n",
              "  <div id=\"df-f45b70de-7937-4e63-899b-f293b4f625c9\" class=\"colab-df-container\">\n",
              "    <div>\n",
              "<style scoped>\n",
              "    .dataframe tbody tr th:only-of-type {\n",
              "        vertical-align: middle;\n",
              "    }\n",
              "\n",
              "    .dataframe tbody tr th {\n",
              "        vertical-align: top;\n",
              "    }\n",
              "\n",
              "    .dataframe thead th {\n",
              "        text-align: right;\n",
              "    }\n",
              "</style>\n",
              "<table border=\"1\" class=\"dataframe\">\n",
              "  <thead>\n",
              "    <tr style=\"text-align: right;\">\n",
              "      <th></th>\n",
              "      <th>Strike Price</th>\n",
              "      <th>Call Option Price</th>\n",
              "      <th>Put Option Price</th>\n",
              "      <th>Parity</th>\n",
              "    </tr>\n",
              "  </thead>\n",
              "  <tbody>\n",
              "    <tr>\n",
              "      <th>0</th>\n",
              "      <td>90.0</td>\n",
              "      <td>11.67</td>\n",
              "      <td>65.68</td>\n",
              "      <td>False</td>\n",
              "    </tr>\n",
              "    <tr>\n",
              "      <th>1</th>\n",
              "      <td>95.0</td>\n",
              "      <td>7.72</td>\n",
              "      <td>70.68</td>\n",
              "      <td>False</td>\n",
              "    </tr>\n",
              "    <tr>\n",
              "      <th>2</th>\n",
              "      <td>100.0</td>\n",
              "      <td>4.61</td>\n",
              "      <td>75.68</td>\n",
              "      <td>False</td>\n",
              "    </tr>\n",
              "    <tr>\n",
              "      <th>3</th>\n",
              "      <td>105.0</td>\n",
              "      <td>2.48</td>\n",
              "      <td>80.68</td>\n",
              "      <td>False</td>\n",
              "    </tr>\n",
              "    <tr>\n",
              "      <th>4</th>\n",
              "      <td>110.0</td>\n",
              "      <td>1.19</td>\n",
              "      <td>85.68</td>\n",
              "      <td>False</td>\n",
              "    </tr>\n",
              "  </tbody>\n",
              "</table>\n",
              "</div>\n",
              "    <div class=\"colab-df-buttons\">\n",
              "\n",
              "  <div class=\"colab-df-container\">\n",
              "    <button class=\"colab-df-convert\" onclick=\"convertToInteractive('df-f45b70de-7937-4e63-899b-f293b4f625c9')\"\n",
              "            title=\"Convert this dataframe to an interactive table.\"\n",
              "            style=\"display:none;\">\n",
              "\n",
              "  <svg xmlns=\"http://www.w3.org/2000/svg\" height=\"24px\" viewBox=\"0 -960 960 960\">\n",
              "    <path d=\"M120-120v-720h720v720H120Zm60-500h600v-160H180v160Zm220 220h160v-160H400v160Zm0 220h160v-160H400v160ZM180-400h160v-160H180v160Zm440 0h160v-160H620v160ZM180-180h160v-160H180v160Zm440 0h160v-160H620v160Z\"/>\n",
              "  </svg>\n",
              "    </button>\n",
              "\n",
              "  <style>\n",
              "    .colab-df-container {\n",
              "      display:flex;\n",
              "      gap: 12px;\n",
              "    }\n",
              "\n",
              "    .colab-df-convert {\n",
              "      background-color: #E8F0FE;\n",
              "      border: none;\n",
              "      border-radius: 50%;\n",
              "      cursor: pointer;\n",
              "      display: none;\n",
              "      fill: #1967D2;\n",
              "      height: 32px;\n",
              "      padding: 0 0 0 0;\n",
              "      width: 32px;\n",
              "    }\n",
              "\n",
              "    .colab-df-convert:hover {\n",
              "      background-color: #E2EBFA;\n",
              "      box-shadow: 0px 1px 2px rgba(60, 64, 67, 0.3), 0px 1px 3px 1px rgba(60, 64, 67, 0.15);\n",
              "      fill: #174EA6;\n",
              "    }\n",
              "\n",
              "    .colab-df-buttons div {\n",
              "      margin-bottom: 4px;\n",
              "    }\n",
              "\n",
              "    [theme=dark] .colab-df-convert {\n",
              "      background-color: #3B4455;\n",
              "      fill: #D2E3FC;\n",
              "    }\n",
              "\n",
              "    [theme=dark] .colab-df-convert:hover {\n",
              "      background-color: #434B5C;\n",
              "      box-shadow: 0px 1px 3px 1px rgba(0, 0, 0, 0.15);\n",
              "      filter: drop-shadow(0px 1px 2px rgba(0, 0, 0, 0.3));\n",
              "      fill: #FFFFFF;\n",
              "    }\n",
              "  </style>\n",
              "\n",
              "    <script>\n",
              "      const buttonEl =\n",
              "        document.querySelector('#df-f45b70de-7937-4e63-899b-f293b4f625c9 button.colab-df-convert');\n",
              "      buttonEl.style.display =\n",
              "        google.colab.kernel.accessAllowed ? 'block' : 'none';\n",
              "\n",
              "      async function convertToInteractive(key) {\n",
              "        const element = document.querySelector('#df-f45b70de-7937-4e63-899b-f293b4f625c9');\n",
              "        const dataTable =\n",
              "          await google.colab.kernel.invokeFunction('convertToInteractive',\n",
              "                                                    [key], {});\n",
              "        if (!dataTable) return;\n",
              "\n",
              "        const docLinkHtml = 'Like what you see? Visit the ' +\n",
              "          '<a target=\"_blank\" href=https://colab.research.google.com/notebooks/data_table.ipynb>data table notebook</a>'\n",
              "          + ' to learn more about interactive tables.';\n",
              "        element.innerHTML = '';\n",
              "        dataTable['output_type'] = 'display_data';\n",
              "        await google.colab.output.renderOutput(dataTable, element);\n",
              "        const docLink = document.createElement('div');\n",
              "        docLink.innerHTML = docLinkHtml;\n",
              "        element.appendChild(docLink);\n",
              "      }\n",
              "    </script>\n",
              "  </div>\n",
              "\n",
              "\n",
              "    <div id=\"df-55029d40-0a3d-4788-99f5-0447fe8986da\">\n",
              "      <button class=\"colab-df-quickchart\" onclick=\"quickchart('df-55029d40-0a3d-4788-99f5-0447fe8986da')\"\n",
              "                title=\"Suggest charts\"\n",
              "                style=\"display:none;\">\n",
              "\n",
              "<svg xmlns=\"http://www.w3.org/2000/svg\" height=\"24px\"viewBox=\"0 0 24 24\"\n",
              "     width=\"24px\">\n",
              "    <g>\n",
              "        <path d=\"M19 3H5c-1.1 0-2 .9-2 2v14c0 1.1.9 2 2 2h14c1.1 0 2-.9 2-2V5c0-1.1-.9-2-2-2zM9 17H7v-7h2v7zm4 0h-2V7h2v10zm4 0h-2v-4h2v4z\"/>\n",
              "    </g>\n",
              "</svg>\n",
              "      </button>\n",
              "\n",
              "<style>\n",
              "  .colab-df-quickchart {\n",
              "      --bg-color: #E8F0FE;\n",
              "      --fill-color: #1967D2;\n",
              "      --hover-bg-color: #E2EBFA;\n",
              "      --hover-fill-color: #174EA6;\n",
              "      --disabled-fill-color: #AAA;\n",
              "      --disabled-bg-color: #DDD;\n",
              "  }\n",
              "\n",
              "  [theme=dark] .colab-df-quickchart {\n",
              "      --bg-color: #3B4455;\n",
              "      --fill-color: #D2E3FC;\n",
              "      --hover-bg-color: #434B5C;\n",
              "      --hover-fill-color: #FFFFFF;\n",
              "      --disabled-bg-color: #3B4455;\n",
              "      --disabled-fill-color: #666;\n",
              "  }\n",
              "\n",
              "  .colab-df-quickchart {\n",
              "    background-color: var(--bg-color);\n",
              "    border: none;\n",
              "    border-radius: 50%;\n",
              "    cursor: pointer;\n",
              "    display: none;\n",
              "    fill: var(--fill-color);\n",
              "    height: 32px;\n",
              "    padding: 0;\n",
              "    width: 32px;\n",
              "  }\n",
              "\n",
              "  .colab-df-quickchart:hover {\n",
              "    background-color: var(--hover-bg-color);\n",
              "    box-shadow: 0 1px 2px rgba(60, 64, 67, 0.3), 0 1px 3px 1px rgba(60, 64, 67, 0.15);\n",
              "    fill: var(--button-hover-fill-color);\n",
              "  }\n",
              "\n",
              "  .colab-df-quickchart-complete:disabled,\n",
              "  .colab-df-quickchart-complete:disabled:hover {\n",
              "    background-color: var(--disabled-bg-color);\n",
              "    fill: var(--disabled-fill-color);\n",
              "    box-shadow: none;\n",
              "  }\n",
              "\n",
              "  .colab-df-spinner {\n",
              "    border: 2px solid var(--fill-color);\n",
              "    border-color: transparent;\n",
              "    border-bottom-color: var(--fill-color);\n",
              "    animation:\n",
              "      spin 1s steps(1) infinite;\n",
              "  }\n",
              "\n",
              "  @keyframes spin {\n",
              "    0% {\n",
              "      border-color: transparent;\n",
              "      border-bottom-color: var(--fill-color);\n",
              "      border-left-color: var(--fill-color);\n",
              "    }\n",
              "    20% {\n",
              "      border-color: transparent;\n",
              "      border-left-color: var(--fill-color);\n",
              "      border-top-color: var(--fill-color);\n",
              "    }\n",
              "    30% {\n",
              "      border-color: transparent;\n",
              "      border-left-color: var(--fill-color);\n",
              "      border-top-color: var(--fill-color);\n",
              "      border-right-color: var(--fill-color);\n",
              "    }\n",
              "    40% {\n",
              "      border-color: transparent;\n",
              "      border-right-color: var(--fill-color);\n",
              "      border-top-color: var(--fill-color);\n",
              "    }\n",
              "    60% {\n",
              "      border-color: transparent;\n",
              "      border-right-color: var(--fill-color);\n",
              "    }\n",
              "    80% {\n",
              "      border-color: transparent;\n",
              "      border-right-color: var(--fill-color);\n",
              "      border-bottom-color: var(--fill-color);\n",
              "    }\n",
              "    90% {\n",
              "      border-color: transparent;\n",
              "      border-bottom-color: var(--fill-color);\n",
              "    }\n",
              "  }\n",
              "</style>\n",
              "\n",
              "      <script>\n",
              "        async function quickchart(key) {\n",
              "          const quickchartButtonEl =\n",
              "            document.querySelector('#' + key + ' button');\n",
              "          quickchartButtonEl.disabled = true;  // To prevent multiple clicks.\n",
              "          quickchartButtonEl.classList.add('colab-df-spinner');\n",
              "          try {\n",
              "            const charts = await google.colab.kernel.invokeFunction(\n",
              "                'suggestCharts', [key], {});\n",
              "          } catch (error) {\n",
              "            console.error('Error during call to suggestCharts:', error);\n",
              "          }\n",
              "          quickchartButtonEl.classList.remove('colab-df-spinner');\n",
              "          quickchartButtonEl.classList.add('colab-df-quickchart-complete');\n",
              "        }\n",
              "        (() => {\n",
              "          let quickchartButtonEl =\n",
              "            document.querySelector('#df-55029d40-0a3d-4788-99f5-0447fe8986da button');\n",
              "          quickchartButtonEl.style.display =\n",
              "            google.colab.kernel.accessAllowed ? 'block' : 'none';\n",
              "        })();\n",
              "      </script>\n",
              "    </div>\n",
              "\n",
              "  <div id=\"id_7f321bf6-9ebf-45c0-852f-567cdf614ce8\">\n",
              "    <style>\n",
              "      .colab-df-generate {\n",
              "        background-color: #E8F0FE;\n",
              "        border: none;\n",
              "        border-radius: 50%;\n",
              "        cursor: pointer;\n",
              "        display: none;\n",
              "        fill: #1967D2;\n",
              "        height: 32px;\n",
              "        padding: 0 0 0 0;\n",
              "        width: 32px;\n",
              "      }\n",
              "\n",
              "      .colab-df-generate:hover {\n",
              "        background-color: #E2EBFA;\n",
              "        box-shadow: 0px 1px 2px rgba(60, 64, 67, 0.3), 0px 1px 3px 1px rgba(60, 64, 67, 0.15);\n",
              "        fill: #174EA6;\n",
              "      }\n",
              "\n",
              "      [theme=dark] .colab-df-generate {\n",
              "        background-color: #3B4455;\n",
              "        fill: #D2E3FC;\n",
              "      }\n",
              "\n",
              "      [theme=dark] .colab-df-generate:hover {\n",
              "        background-color: #434B5C;\n",
              "        box-shadow: 0px 1px 3px 1px rgba(0, 0, 0, 0.15);\n",
              "        filter: drop-shadow(0px 1px 2px rgba(0, 0, 0, 0.3));\n",
              "        fill: #FFFFFF;\n",
              "      }\n",
              "    </style>\n",
              "    <button class=\"colab-df-generate\" onclick=\"generateWithVariable('american_tri_df')\"\n",
              "            title=\"Generate code using this dataframe.\"\n",
              "            style=\"display:none;\">\n",
              "\n",
              "  <svg xmlns=\"http://www.w3.org/2000/svg\" height=\"24px\"viewBox=\"0 0 24 24\"\n",
              "       width=\"24px\">\n",
              "    <path d=\"M7,19H8.4L18.45,9,17,7.55,7,17.6ZM5,21V16.75L18.45,3.32a2,2,0,0,1,2.83,0l1.4,1.43a1.91,1.91,0,0,1,.58,1.4,1.91,1.91,0,0,1-.58,1.4L9.25,21ZM18.45,9,17,7.55Zm-12,3A5.31,5.31,0,0,0,4.9,8.1,5.31,5.31,0,0,0,1,6.5,5.31,5.31,0,0,0,4.9,4.9,5.31,5.31,0,0,0,6.5,1,5.31,5.31,0,0,0,8.1,4.9,5.31,5.31,0,0,0,12,6.5,5.46,5.46,0,0,0,6.5,12Z\"/>\n",
              "  </svg>\n",
              "    </button>\n",
              "    <script>\n",
              "      (() => {\n",
              "      const buttonEl =\n",
              "        document.querySelector('#id_7f321bf6-9ebf-45c0-852f-567cdf614ce8 button.colab-df-generate');\n",
              "      buttonEl.style.display =\n",
              "        google.colab.kernel.accessAllowed ? 'block' : 'none';\n",
              "\n",
              "      buttonEl.onclick = () => {\n",
              "        google.colab.notebook.generateWithVariable('american_tri_df');\n",
              "      }\n",
              "      })();\n",
              "    </script>\n",
              "  </div>\n",
              "\n",
              "    </div>\n",
              "  </div>\n"
            ],
            "application/vnd.google.colaboratory.intrinsic+json": {
              "type": "dataframe",
              "variable_name": "american_tri_df",
              "summary": "{\n  \"name\": \"american_tri_df\",\n  \"rows\": 5,\n  \"fields\": [\n    {\n      \"column\": \"Strike Price\",\n      \"properties\": {\n        \"dtype\": \"number\",\n        \"std\": 7.905694150420953,\n        \"min\": 90.0,\n        \"max\": 110.00000000000001,\n        \"num_unique_values\": 5,\n        \"samples\": [\n          95.0,\n          110.00000000000001,\n          100.0\n        ],\n        \"semantic_type\": \"\",\n        \"description\": \"\"\n      }\n    },\n    {\n      \"column\": \"Call Option Price\",\n      \"properties\": {\n        \"dtype\": \"number\",\n        \"std\": 4.227295825938847,\n        \"min\": 1.19,\n        \"max\": 11.67,\n        \"num_unique_values\": 5,\n        \"samples\": [\n          7.72,\n          1.19,\n          4.61\n        ],\n        \"semantic_type\": \"\",\n        \"description\": \"\"\n      }\n    },\n    {\n      \"column\": \"Put Option Price\",\n      \"properties\": {\n        \"dtype\": \"number\",\n        \"std\": 7.905694150420948,\n        \"min\": 65.68,\n        \"max\": 85.68,\n        \"num_unique_values\": 5,\n        \"samples\": [\n          70.68,\n          85.68,\n          75.68\n        ],\n        \"semantic_type\": \"\",\n        \"description\": \"\"\n      }\n    },\n    {\n      \"column\": \"Parity\",\n      \"properties\": {\n        \"dtype\": \"boolean\",\n        \"num_unique_values\": 1,\n        \"samples\": [\n          false\n        ],\n        \"semantic_type\": \"\",\n        \"description\": \"\"\n      }\n    }\n  ]\n}"
            }
          },
          "metadata": {},
          "execution_count": 26
        }
      ]
    },
    {
      "cell_type": "markdown",
      "source": [
        "From the table, we can see that Put-call parity **does not** hold for the American options."
      ],
      "metadata": {
        "id": "RfRu5Kh1uYKR"
      }
    },
    {
      "cell_type": "markdown",
      "source": [
        "# **Pricing European calls and puts using a trinomial tree:**\n",
        "**Given Conditions:** (same as for American options) \\\\\n",
        "$S_0$ = 100; \\\\\n",
        "$\\ $r = 5% \\\\\n",
        "$\\ $σ = 20% \\\\\n",
        "$\\ $T = 3 months \\\\\n",
        "$\\ $N = 100 (same as obtained in previous step for simplicity) \\\\\n",
        "$\\ $Moneyness = 90%, 95%, ATM, 105%,\n",
        "110% of moneyness = K/S0:"
      ],
      "metadata": {
        "id": "49V-2Njxgnwg"
      }
    },
    {
      "cell_type": "code",
      "source": [
        "def european_tri_option(S_ini, K, T, r, sigma, nb_steps, opttype):\n",
        "    \"\"\"\n",
        "    Price an European call or put using a binomial tree.\n",
        "\n",
        "    Parameters:\n",
        "    S_ini : float   - initial stock price\n",
        "    K     : float   - strike price\n",
        "    T     : float   - time to maturity (years)\n",
        "    r     : float   - risk-free interest rate\n",
        "    sigma : float   - volatility\n",
        "    nb_steps     : int     - number of time steps\n",
        "    opttype: str    - 'C' for call, 'P' for put\n",
        "\n",
        "    Returns:\n",
        "    nxt_vec_prices[0]       : float    - the option price at t=0\n",
        "\n",
        "    \"\"\"\n",
        "\n",
        "    h = T / nb_steps  # This would be our 'dt' from previous examples\n",
        "    discount = np.exp(-r * h)  # Define discount factor for simplicity later on\n",
        "\n",
        "    # Define risk-neutral probabilities:\n",
        "    pu = (\n",
        "        (np.exp(r * h / 2) - np.exp(-sigma * np.sqrt(h / 2)))\n",
        "        / (np.exp(sigma * np.sqrt(h / 2)) - np.exp(-sigma * np.sqrt(h / 2)))\n",
        "    ) ** 2\n",
        "    pd = (\n",
        "        (-np.exp(r * h / 2) + np.exp(sigma * np.sqrt(h / 2)))\n",
        "        / (np.exp(sigma * np.sqrt(h / 2)) - np.exp(-sigma * np.sqrt(h / 2)))\n",
        "    ) ** 2\n",
        "    pm = 1 - pu - pd\n",
        "    #print(pu, pd, pm)\n",
        "    # This would be our underlying evolution (Note we are using the function from before!)\n",
        "    s = _gen_stock_vec(S_ini, sigma, nb_steps, h)\n",
        "\n",
        "    # Define Payoff (in this case, European Call Option)\n",
        "    # Define early exercise value of option at each node of tree\n",
        "    if opttype == \"C\": # Call\n",
        "        final_payoff = np.maximum(s - K, 0)\n",
        "    else: # Put\n",
        "        final_payoff = np.maximum(K - s, 0)\n",
        "    # Calculate option prices at each node of tree using backward induction\n",
        "    nxt_vec_prices = final_payoff\n",
        "\n",
        "    # Proceed with iterations for the calculation of payoffs\n",
        "    for i in range(1, nb_steps + 1):\n",
        "        vec_stock = _gen_stock_vec(S_ini, sigma,nb_steps - i, h)\n",
        "        expectation = np.zeros(vec_stock.size)\n",
        "\n",
        "        for j in range(expectation.size):\n",
        "            tmp = nxt_vec_prices[j] * pd\n",
        "            tmp += nxt_vec_prices[j + 1] * pm\n",
        "            tmp += nxt_vec_prices[j + 2] * pu\n",
        "\n",
        "            expectation[j] = tmp\n",
        "        # Discount option payoff!\n",
        "        nxt_vec_prices = discount * expectation\n",
        "\n",
        "    return nxt_vec_prices[0]"
      ],
      "metadata": {
        "id": "af539SN3gqWI"
      },
      "execution_count": 27,
      "outputs": []
    },
    {
      "cell_type": "code",
      "source": [
        "european_call_price = []\n",
        "for K in moneyness:\n",
        "  price = round(european_tri_option(100,K,3/12,0.05,0.2, 100,'C'),2)\n",
        "  european_call_price.append(price)\n",
        "  print(\" Price of the European Call Option at K =\", round(K,1),\" is {:.2f}\".format(price))"
      ],
      "metadata": {
        "colab": {
          "base_uri": "https://localhost:8080/"
        },
        "id": "EYKC3ev6iKYE",
        "outputId": "cb88ab49-f737-4e1e-eb64-89cc6c722aad"
      },
      "execution_count": 28,
      "outputs": [
        {
          "output_type": "stream",
          "name": "stdout",
          "text": [
            " Price of the European Call Option at K = 90.0  is 11.67\n",
            " Price of the European Call Option at K = 95.0  is 7.72\n",
            " Price of the European Call Option at K = 100.0  is 4.61\n",
            " Price of the European Call Option at K = 105.0  is 2.48\n",
            " Price of the European Call Option at K = 110.0  is 1.19\n"
          ]
        }
      ]
    },
    {
      "cell_type": "code",
      "source": [
        "european_put_price = []\n",
        "for K in moneyness:\n",
        "  price = round(european_tri_option(100,K,3/12,0.05,0.2, 100,'P'),2)\n",
        "  european_put_price.append(price)\n",
        "  print(\" Price of the European Put Option at K =\", round(K,1),\" is {:.2f}\".format(price))"
      ],
      "metadata": {
        "colab": {
          "base_uri": "https://localhost:8080/"
        },
        "id": "Loh0tX9RkgPI",
        "outputId": "bbadd72d-60ee-4099-d6b1-f3efa1720f90"
      },
      "execution_count": 29,
      "outputs": [
        {
          "output_type": "stream",
          "name": "stdout",
          "text": [
            " Price of the European Put Option at K = 90.0  is 0.55\n",
            " Price of the European Put Option at K = 95.0  is 1.54\n",
            " Price of the European Put Option at K = 100.0  is 3.37\n",
            " Price of the European Put Option at K = 105.0  is 6.18\n",
            " Price of the European Put Option at K = 110.0  is 9.83\n"
          ]
        }
      ]
    },
    {
      "cell_type": "code",
      "source": [
        "european_tri_df= pd.DataFrame({\n",
        "    'Strike Price': moneyness,\n",
        "    'Call Option Price': european_call_price,\n",
        "    'Put Option Price': european_put_price,\n",
        "    })"
      ],
      "metadata": {
        "id": "kDnSgA3fk0Ao"
      },
      "execution_count": 30,
      "outputs": []
    },
    {
      "cell_type": "code",
      "source": [
        "european_tri_df"
      ],
      "metadata": {
        "colab": {
          "base_uri": "https://localhost:8080/",
          "height": 206
        },
        "id": "7lHsqN5vk-9O",
        "outputId": "97890dd1-f00e-4b49-e4f1-3fa5dc6bb0c4"
      },
      "execution_count": 31,
      "outputs": [
        {
          "output_type": "execute_result",
          "data": {
            "text/plain": [
              "   Strike Price  Call Option Price  Put Option Price\n",
              "0          90.0              11.67              0.55\n",
              "1          95.0               7.72              1.54\n",
              "2         100.0               4.61              3.37\n",
              "3         105.0               2.48              6.18\n",
              "4         110.0               1.19              9.83"
            ],
            "text/html": [
              "\n",
              "  <div id=\"df-4be0a076-8ae2-420b-a002-43c208314b09\" class=\"colab-df-container\">\n",
              "    <div>\n",
              "<style scoped>\n",
              "    .dataframe tbody tr th:only-of-type {\n",
              "        vertical-align: middle;\n",
              "    }\n",
              "\n",
              "    .dataframe tbody tr th {\n",
              "        vertical-align: top;\n",
              "    }\n",
              "\n",
              "    .dataframe thead th {\n",
              "        text-align: right;\n",
              "    }\n",
              "</style>\n",
              "<table border=\"1\" class=\"dataframe\">\n",
              "  <thead>\n",
              "    <tr style=\"text-align: right;\">\n",
              "      <th></th>\n",
              "      <th>Strike Price</th>\n",
              "      <th>Call Option Price</th>\n",
              "      <th>Put Option Price</th>\n",
              "    </tr>\n",
              "  </thead>\n",
              "  <tbody>\n",
              "    <tr>\n",
              "      <th>0</th>\n",
              "      <td>90.0</td>\n",
              "      <td>11.67</td>\n",
              "      <td>0.55</td>\n",
              "    </tr>\n",
              "    <tr>\n",
              "      <th>1</th>\n",
              "      <td>95.0</td>\n",
              "      <td>7.72</td>\n",
              "      <td>1.54</td>\n",
              "    </tr>\n",
              "    <tr>\n",
              "      <th>2</th>\n",
              "      <td>100.0</td>\n",
              "      <td>4.61</td>\n",
              "      <td>3.37</td>\n",
              "    </tr>\n",
              "    <tr>\n",
              "      <th>3</th>\n",
              "      <td>105.0</td>\n",
              "      <td>2.48</td>\n",
              "      <td>6.18</td>\n",
              "    </tr>\n",
              "    <tr>\n",
              "      <th>4</th>\n",
              "      <td>110.0</td>\n",
              "      <td>1.19</td>\n",
              "      <td>9.83</td>\n",
              "    </tr>\n",
              "  </tbody>\n",
              "</table>\n",
              "</div>\n",
              "    <div class=\"colab-df-buttons\">\n",
              "\n",
              "  <div class=\"colab-df-container\">\n",
              "    <button class=\"colab-df-convert\" onclick=\"convertToInteractive('df-4be0a076-8ae2-420b-a002-43c208314b09')\"\n",
              "            title=\"Convert this dataframe to an interactive table.\"\n",
              "            style=\"display:none;\">\n",
              "\n",
              "  <svg xmlns=\"http://www.w3.org/2000/svg\" height=\"24px\" viewBox=\"0 -960 960 960\">\n",
              "    <path d=\"M120-120v-720h720v720H120Zm60-500h600v-160H180v160Zm220 220h160v-160H400v160Zm0 220h160v-160H400v160ZM180-400h160v-160H180v160Zm440 0h160v-160H620v160ZM180-180h160v-160H180v160Zm440 0h160v-160H620v160Z\"/>\n",
              "  </svg>\n",
              "    </button>\n",
              "\n",
              "  <style>\n",
              "    .colab-df-container {\n",
              "      display:flex;\n",
              "      gap: 12px;\n",
              "    }\n",
              "\n",
              "    .colab-df-convert {\n",
              "      background-color: #E8F0FE;\n",
              "      border: none;\n",
              "      border-radius: 50%;\n",
              "      cursor: pointer;\n",
              "      display: none;\n",
              "      fill: #1967D2;\n",
              "      height: 32px;\n",
              "      padding: 0 0 0 0;\n",
              "      width: 32px;\n",
              "    }\n",
              "\n",
              "    .colab-df-convert:hover {\n",
              "      background-color: #E2EBFA;\n",
              "      box-shadow: 0px 1px 2px rgba(60, 64, 67, 0.3), 0px 1px 3px 1px rgba(60, 64, 67, 0.15);\n",
              "      fill: #174EA6;\n",
              "    }\n",
              "\n",
              "    .colab-df-buttons div {\n",
              "      margin-bottom: 4px;\n",
              "    }\n",
              "\n",
              "    [theme=dark] .colab-df-convert {\n",
              "      background-color: #3B4455;\n",
              "      fill: #D2E3FC;\n",
              "    }\n",
              "\n",
              "    [theme=dark] .colab-df-convert:hover {\n",
              "      background-color: #434B5C;\n",
              "      box-shadow: 0px 1px 3px 1px rgba(0, 0, 0, 0.15);\n",
              "      filter: drop-shadow(0px 1px 2px rgba(0, 0, 0, 0.3));\n",
              "      fill: #FFFFFF;\n",
              "    }\n",
              "  </style>\n",
              "\n",
              "    <script>\n",
              "      const buttonEl =\n",
              "        document.querySelector('#df-4be0a076-8ae2-420b-a002-43c208314b09 button.colab-df-convert');\n",
              "      buttonEl.style.display =\n",
              "        google.colab.kernel.accessAllowed ? 'block' : 'none';\n",
              "\n",
              "      async function convertToInteractive(key) {\n",
              "        const element = document.querySelector('#df-4be0a076-8ae2-420b-a002-43c208314b09');\n",
              "        const dataTable =\n",
              "          await google.colab.kernel.invokeFunction('convertToInteractive',\n",
              "                                                    [key], {});\n",
              "        if (!dataTable) return;\n",
              "\n",
              "        const docLinkHtml = 'Like what you see? Visit the ' +\n",
              "          '<a target=\"_blank\" href=https://colab.research.google.com/notebooks/data_table.ipynb>data table notebook</a>'\n",
              "          + ' to learn more about interactive tables.';\n",
              "        element.innerHTML = '';\n",
              "        dataTable['output_type'] = 'display_data';\n",
              "        await google.colab.output.renderOutput(dataTable, element);\n",
              "        const docLink = document.createElement('div');\n",
              "        docLink.innerHTML = docLinkHtml;\n",
              "        element.appendChild(docLink);\n",
              "      }\n",
              "    </script>\n",
              "  </div>\n",
              "\n",
              "\n",
              "    <div id=\"df-ecd5d1bd-1b8a-405f-a271-0663b6f9119e\">\n",
              "      <button class=\"colab-df-quickchart\" onclick=\"quickchart('df-ecd5d1bd-1b8a-405f-a271-0663b6f9119e')\"\n",
              "                title=\"Suggest charts\"\n",
              "                style=\"display:none;\">\n",
              "\n",
              "<svg xmlns=\"http://www.w3.org/2000/svg\" height=\"24px\"viewBox=\"0 0 24 24\"\n",
              "     width=\"24px\">\n",
              "    <g>\n",
              "        <path d=\"M19 3H5c-1.1 0-2 .9-2 2v14c0 1.1.9 2 2 2h14c1.1 0 2-.9 2-2V5c0-1.1-.9-2-2-2zM9 17H7v-7h2v7zm4 0h-2V7h2v10zm4 0h-2v-4h2v4z\"/>\n",
              "    </g>\n",
              "</svg>\n",
              "      </button>\n",
              "\n",
              "<style>\n",
              "  .colab-df-quickchart {\n",
              "      --bg-color: #E8F0FE;\n",
              "      --fill-color: #1967D2;\n",
              "      --hover-bg-color: #E2EBFA;\n",
              "      --hover-fill-color: #174EA6;\n",
              "      --disabled-fill-color: #AAA;\n",
              "      --disabled-bg-color: #DDD;\n",
              "  }\n",
              "\n",
              "  [theme=dark] .colab-df-quickchart {\n",
              "      --bg-color: #3B4455;\n",
              "      --fill-color: #D2E3FC;\n",
              "      --hover-bg-color: #434B5C;\n",
              "      --hover-fill-color: #FFFFFF;\n",
              "      --disabled-bg-color: #3B4455;\n",
              "      --disabled-fill-color: #666;\n",
              "  }\n",
              "\n",
              "  .colab-df-quickchart {\n",
              "    background-color: var(--bg-color);\n",
              "    border: none;\n",
              "    border-radius: 50%;\n",
              "    cursor: pointer;\n",
              "    display: none;\n",
              "    fill: var(--fill-color);\n",
              "    height: 32px;\n",
              "    padding: 0;\n",
              "    width: 32px;\n",
              "  }\n",
              "\n",
              "  .colab-df-quickchart:hover {\n",
              "    background-color: var(--hover-bg-color);\n",
              "    box-shadow: 0 1px 2px rgba(60, 64, 67, 0.3), 0 1px 3px 1px rgba(60, 64, 67, 0.15);\n",
              "    fill: var(--button-hover-fill-color);\n",
              "  }\n",
              "\n",
              "  .colab-df-quickchart-complete:disabled,\n",
              "  .colab-df-quickchart-complete:disabled:hover {\n",
              "    background-color: var(--disabled-bg-color);\n",
              "    fill: var(--disabled-fill-color);\n",
              "    box-shadow: none;\n",
              "  }\n",
              "\n",
              "  .colab-df-spinner {\n",
              "    border: 2px solid var(--fill-color);\n",
              "    border-color: transparent;\n",
              "    border-bottom-color: var(--fill-color);\n",
              "    animation:\n",
              "      spin 1s steps(1) infinite;\n",
              "  }\n",
              "\n",
              "  @keyframes spin {\n",
              "    0% {\n",
              "      border-color: transparent;\n",
              "      border-bottom-color: var(--fill-color);\n",
              "      border-left-color: var(--fill-color);\n",
              "    }\n",
              "    20% {\n",
              "      border-color: transparent;\n",
              "      border-left-color: var(--fill-color);\n",
              "      border-top-color: var(--fill-color);\n",
              "    }\n",
              "    30% {\n",
              "      border-color: transparent;\n",
              "      border-left-color: var(--fill-color);\n",
              "      border-top-color: var(--fill-color);\n",
              "      border-right-color: var(--fill-color);\n",
              "    }\n",
              "    40% {\n",
              "      border-color: transparent;\n",
              "      border-right-color: var(--fill-color);\n",
              "      border-top-color: var(--fill-color);\n",
              "    }\n",
              "    60% {\n",
              "      border-color: transparent;\n",
              "      border-right-color: var(--fill-color);\n",
              "    }\n",
              "    80% {\n",
              "      border-color: transparent;\n",
              "      border-right-color: var(--fill-color);\n",
              "      border-bottom-color: var(--fill-color);\n",
              "    }\n",
              "    90% {\n",
              "      border-color: transparent;\n",
              "      border-bottom-color: var(--fill-color);\n",
              "    }\n",
              "  }\n",
              "</style>\n",
              "\n",
              "      <script>\n",
              "        async function quickchart(key) {\n",
              "          const quickchartButtonEl =\n",
              "            document.querySelector('#' + key + ' button');\n",
              "          quickchartButtonEl.disabled = true;  // To prevent multiple clicks.\n",
              "          quickchartButtonEl.classList.add('colab-df-spinner');\n",
              "          try {\n",
              "            const charts = await google.colab.kernel.invokeFunction(\n",
              "                'suggestCharts', [key], {});\n",
              "          } catch (error) {\n",
              "            console.error('Error during call to suggestCharts:', error);\n",
              "          }\n",
              "          quickchartButtonEl.classList.remove('colab-df-spinner');\n",
              "          quickchartButtonEl.classList.add('colab-df-quickchart-complete');\n",
              "        }\n",
              "        (() => {\n",
              "          let quickchartButtonEl =\n",
              "            document.querySelector('#df-ecd5d1bd-1b8a-405f-a271-0663b6f9119e button');\n",
              "          quickchartButtonEl.style.display =\n",
              "            google.colab.kernel.accessAllowed ? 'block' : 'none';\n",
              "        })();\n",
              "      </script>\n",
              "    </div>\n",
              "\n",
              "  <div id=\"id_942b4059-3296-408f-a8ba-102f72004bf6\">\n",
              "    <style>\n",
              "      .colab-df-generate {\n",
              "        background-color: #E8F0FE;\n",
              "        border: none;\n",
              "        border-radius: 50%;\n",
              "        cursor: pointer;\n",
              "        display: none;\n",
              "        fill: #1967D2;\n",
              "        height: 32px;\n",
              "        padding: 0 0 0 0;\n",
              "        width: 32px;\n",
              "      }\n",
              "\n",
              "      .colab-df-generate:hover {\n",
              "        background-color: #E2EBFA;\n",
              "        box-shadow: 0px 1px 2px rgba(60, 64, 67, 0.3), 0px 1px 3px 1px rgba(60, 64, 67, 0.15);\n",
              "        fill: #174EA6;\n",
              "      }\n",
              "\n",
              "      [theme=dark] .colab-df-generate {\n",
              "        background-color: #3B4455;\n",
              "        fill: #D2E3FC;\n",
              "      }\n",
              "\n",
              "      [theme=dark] .colab-df-generate:hover {\n",
              "        background-color: #434B5C;\n",
              "        box-shadow: 0px 1px 3px 1px rgba(0, 0, 0, 0.15);\n",
              "        filter: drop-shadow(0px 1px 2px rgba(0, 0, 0, 0.3));\n",
              "        fill: #FFFFFF;\n",
              "      }\n",
              "    </style>\n",
              "    <button class=\"colab-df-generate\" onclick=\"generateWithVariable('european_tri_df')\"\n",
              "            title=\"Generate code using this dataframe.\"\n",
              "            style=\"display:none;\">\n",
              "\n",
              "  <svg xmlns=\"http://www.w3.org/2000/svg\" height=\"24px\"viewBox=\"0 0 24 24\"\n",
              "       width=\"24px\">\n",
              "    <path d=\"M7,19H8.4L18.45,9,17,7.55,7,17.6ZM5,21V16.75L18.45,3.32a2,2,0,0,1,2.83,0l1.4,1.43a1.91,1.91,0,0,1,.58,1.4,1.91,1.91,0,0,1-.58,1.4L9.25,21ZM18.45,9,17,7.55Zm-12,3A5.31,5.31,0,0,0,4.9,8.1,5.31,5.31,0,0,0,1,6.5,5.31,5.31,0,0,0,4.9,4.9,5.31,5.31,0,0,0,6.5,1,5.31,5.31,0,0,0,8.1,4.9,5.31,5.31,0,0,0,12,6.5,5.46,5.46,0,0,0,6.5,12Z\"/>\n",
              "  </svg>\n",
              "    </button>\n",
              "    <script>\n",
              "      (() => {\n",
              "      const buttonEl =\n",
              "        document.querySelector('#id_942b4059-3296-408f-a8ba-102f72004bf6 button.colab-df-generate');\n",
              "      buttonEl.style.display =\n",
              "        google.colab.kernel.accessAllowed ? 'block' : 'none';\n",
              "\n",
              "      buttonEl.onclick = () => {\n",
              "        google.colab.notebook.generateWithVariable('european_tri_df');\n",
              "      }\n",
              "      })();\n",
              "    </script>\n",
              "  </div>\n",
              "\n",
              "    </div>\n",
              "  </div>\n"
            ],
            "application/vnd.google.colaboratory.intrinsic+json": {
              "type": "dataframe",
              "variable_name": "european_tri_df",
              "summary": "{\n  \"name\": \"european_tri_df\",\n  \"rows\": 5,\n  \"fields\": [\n    {\n      \"column\": \"Strike Price\",\n      \"properties\": {\n        \"dtype\": \"number\",\n        \"std\": 7.905694150420953,\n        \"min\": 90.0,\n        \"max\": 110.00000000000001,\n        \"num_unique_values\": 5,\n        \"samples\": [\n          95.0,\n          110.00000000000001,\n          100.0\n        ],\n        \"semantic_type\": \"\",\n        \"description\": \"\"\n      }\n    },\n    {\n      \"column\": \"Call Option Price\",\n      \"properties\": {\n        \"dtype\": \"number\",\n        \"std\": 4.227295825938847,\n        \"min\": 1.19,\n        \"max\": 11.67,\n        \"num_unique_values\": 5,\n        \"samples\": [\n          7.72,\n          1.19,\n          4.61\n        ],\n        \"semantic_type\": \"\",\n        \"description\": \"\"\n      }\n    },\n    {\n      \"column\": \"Put Option Price\",\n      \"properties\": {\n        \"dtype\": \"number\",\n        \"std\": 3.7636458388110854,\n        \"min\": 0.55,\n        \"max\": 9.83,\n        \"num_unique_values\": 5,\n        \"samples\": [\n          1.54,\n          9.83,\n          3.37\n        ],\n        \"semantic_type\": \"\",\n        \"description\": \"\"\n      }\n    }\n  ]\n}"
            }
          },
          "metadata": {},
          "execution_count": 31
        }
      ]
    },
    {
      "cell_type": "markdown",
      "source": [
        "We can see that as the strike price increases the price of European Call decreases whereas the price of European Put increases."
      ],
      "metadata": {
        "id": "ILaI08lHlDdZ"
      }
    },
    {
      "cell_type": "markdown",
      "source": [
        "## 1. Put-Call Parity\n",
        "Now we will check whether Put-Call parity equation is satisfied for European options in trinomial tree for all 5 strike pricesas follows:"
      ],
      "metadata": {
        "id": "zOkPlQbAmz32"
      }
    },
    {
      "cell_type": "code",
      "source": [
        "S_call_eur = 100  # Underlying's price at t=0 which s0\n",
        "# S_call_eur == S_put_eur is true\n",
        "parity = round(\n",
        "  european_tri_df['Call Option Price'] + european_tri_df['Strike Price'] * np.exp(-0.05 * 3/12), 1) == round(S_call_eur + european_tri_df['Put Option Price'],1)\n"
      ],
      "metadata": {
        "id": "VIntFsrvm3NO"
      },
      "execution_count": 32,
      "outputs": []
    },
    {
      "cell_type": "code",
      "source": [
        "european_tri_df['Parity'] = parity\n",
        "european_tri_df"
      ],
      "metadata": {
        "colab": {
          "base_uri": "https://localhost:8080/",
          "height": 206
        },
        "id": "BbzTzD6OqVy2",
        "outputId": "21e17e4f-d693-42c0-c86d-1770d2431821"
      },
      "execution_count": 33,
      "outputs": [
        {
          "output_type": "execute_result",
          "data": {
            "text/plain": [
              "   Strike Price  Call Option Price  Put Option Price  Parity\n",
              "0          90.0              11.67              0.55    True\n",
              "1          95.0               7.72              1.54    True\n",
              "2         100.0               4.61              3.37    True\n",
              "3         105.0               2.48              6.18    True\n",
              "4         110.0               1.19              9.83    True"
            ],
            "text/html": [
              "\n",
              "  <div id=\"df-5e0ef313-62a8-4287-a01b-b93f57e04a59\" class=\"colab-df-container\">\n",
              "    <div>\n",
              "<style scoped>\n",
              "    .dataframe tbody tr th:only-of-type {\n",
              "        vertical-align: middle;\n",
              "    }\n",
              "\n",
              "    .dataframe tbody tr th {\n",
              "        vertical-align: top;\n",
              "    }\n",
              "\n",
              "    .dataframe thead th {\n",
              "        text-align: right;\n",
              "    }\n",
              "</style>\n",
              "<table border=\"1\" class=\"dataframe\">\n",
              "  <thead>\n",
              "    <tr style=\"text-align: right;\">\n",
              "      <th></th>\n",
              "      <th>Strike Price</th>\n",
              "      <th>Call Option Price</th>\n",
              "      <th>Put Option Price</th>\n",
              "      <th>Parity</th>\n",
              "    </tr>\n",
              "  </thead>\n",
              "  <tbody>\n",
              "    <tr>\n",
              "      <th>0</th>\n",
              "      <td>90.0</td>\n",
              "      <td>11.67</td>\n",
              "      <td>0.55</td>\n",
              "      <td>True</td>\n",
              "    </tr>\n",
              "    <tr>\n",
              "      <th>1</th>\n",
              "      <td>95.0</td>\n",
              "      <td>7.72</td>\n",
              "      <td>1.54</td>\n",
              "      <td>True</td>\n",
              "    </tr>\n",
              "    <tr>\n",
              "      <th>2</th>\n",
              "      <td>100.0</td>\n",
              "      <td>4.61</td>\n",
              "      <td>3.37</td>\n",
              "      <td>True</td>\n",
              "    </tr>\n",
              "    <tr>\n",
              "      <th>3</th>\n",
              "      <td>105.0</td>\n",
              "      <td>2.48</td>\n",
              "      <td>6.18</td>\n",
              "      <td>True</td>\n",
              "    </tr>\n",
              "    <tr>\n",
              "      <th>4</th>\n",
              "      <td>110.0</td>\n",
              "      <td>1.19</td>\n",
              "      <td>9.83</td>\n",
              "      <td>True</td>\n",
              "    </tr>\n",
              "  </tbody>\n",
              "</table>\n",
              "</div>\n",
              "    <div class=\"colab-df-buttons\">\n",
              "\n",
              "  <div class=\"colab-df-container\">\n",
              "    <button class=\"colab-df-convert\" onclick=\"convertToInteractive('df-5e0ef313-62a8-4287-a01b-b93f57e04a59')\"\n",
              "            title=\"Convert this dataframe to an interactive table.\"\n",
              "            style=\"display:none;\">\n",
              "\n",
              "  <svg xmlns=\"http://www.w3.org/2000/svg\" height=\"24px\" viewBox=\"0 -960 960 960\">\n",
              "    <path d=\"M120-120v-720h720v720H120Zm60-500h600v-160H180v160Zm220 220h160v-160H400v160Zm0 220h160v-160H400v160ZM180-400h160v-160H180v160Zm440 0h160v-160H620v160ZM180-180h160v-160H180v160Zm440 0h160v-160H620v160Z\"/>\n",
              "  </svg>\n",
              "    </button>\n",
              "\n",
              "  <style>\n",
              "    .colab-df-container {\n",
              "      display:flex;\n",
              "      gap: 12px;\n",
              "    }\n",
              "\n",
              "    .colab-df-convert {\n",
              "      background-color: #E8F0FE;\n",
              "      border: none;\n",
              "      border-radius: 50%;\n",
              "      cursor: pointer;\n",
              "      display: none;\n",
              "      fill: #1967D2;\n",
              "      height: 32px;\n",
              "      padding: 0 0 0 0;\n",
              "      width: 32px;\n",
              "    }\n",
              "\n",
              "    .colab-df-convert:hover {\n",
              "      background-color: #E2EBFA;\n",
              "      box-shadow: 0px 1px 2px rgba(60, 64, 67, 0.3), 0px 1px 3px 1px rgba(60, 64, 67, 0.15);\n",
              "      fill: #174EA6;\n",
              "    }\n",
              "\n",
              "    .colab-df-buttons div {\n",
              "      margin-bottom: 4px;\n",
              "    }\n",
              "\n",
              "    [theme=dark] .colab-df-convert {\n",
              "      background-color: #3B4455;\n",
              "      fill: #D2E3FC;\n",
              "    }\n",
              "\n",
              "    [theme=dark] .colab-df-convert:hover {\n",
              "      background-color: #434B5C;\n",
              "      box-shadow: 0px 1px 3px 1px rgba(0, 0, 0, 0.15);\n",
              "      filter: drop-shadow(0px 1px 2px rgba(0, 0, 0, 0.3));\n",
              "      fill: #FFFFFF;\n",
              "    }\n",
              "  </style>\n",
              "\n",
              "    <script>\n",
              "      const buttonEl =\n",
              "        document.querySelector('#df-5e0ef313-62a8-4287-a01b-b93f57e04a59 button.colab-df-convert');\n",
              "      buttonEl.style.display =\n",
              "        google.colab.kernel.accessAllowed ? 'block' : 'none';\n",
              "\n",
              "      async function convertToInteractive(key) {\n",
              "        const element = document.querySelector('#df-5e0ef313-62a8-4287-a01b-b93f57e04a59');\n",
              "        const dataTable =\n",
              "          await google.colab.kernel.invokeFunction('convertToInteractive',\n",
              "                                                    [key], {});\n",
              "        if (!dataTable) return;\n",
              "\n",
              "        const docLinkHtml = 'Like what you see? Visit the ' +\n",
              "          '<a target=\"_blank\" href=https://colab.research.google.com/notebooks/data_table.ipynb>data table notebook</a>'\n",
              "          + ' to learn more about interactive tables.';\n",
              "        element.innerHTML = '';\n",
              "        dataTable['output_type'] = 'display_data';\n",
              "        await google.colab.output.renderOutput(dataTable, element);\n",
              "        const docLink = document.createElement('div');\n",
              "        docLink.innerHTML = docLinkHtml;\n",
              "        element.appendChild(docLink);\n",
              "      }\n",
              "    </script>\n",
              "  </div>\n",
              "\n",
              "\n",
              "    <div id=\"df-9515de30-f4f8-4a0d-89a6-08686488ff0c\">\n",
              "      <button class=\"colab-df-quickchart\" onclick=\"quickchart('df-9515de30-f4f8-4a0d-89a6-08686488ff0c')\"\n",
              "                title=\"Suggest charts\"\n",
              "                style=\"display:none;\">\n",
              "\n",
              "<svg xmlns=\"http://www.w3.org/2000/svg\" height=\"24px\"viewBox=\"0 0 24 24\"\n",
              "     width=\"24px\">\n",
              "    <g>\n",
              "        <path d=\"M19 3H5c-1.1 0-2 .9-2 2v14c0 1.1.9 2 2 2h14c1.1 0 2-.9 2-2V5c0-1.1-.9-2-2-2zM9 17H7v-7h2v7zm4 0h-2V7h2v10zm4 0h-2v-4h2v4z\"/>\n",
              "    </g>\n",
              "</svg>\n",
              "      </button>\n",
              "\n",
              "<style>\n",
              "  .colab-df-quickchart {\n",
              "      --bg-color: #E8F0FE;\n",
              "      --fill-color: #1967D2;\n",
              "      --hover-bg-color: #E2EBFA;\n",
              "      --hover-fill-color: #174EA6;\n",
              "      --disabled-fill-color: #AAA;\n",
              "      --disabled-bg-color: #DDD;\n",
              "  }\n",
              "\n",
              "  [theme=dark] .colab-df-quickchart {\n",
              "      --bg-color: #3B4455;\n",
              "      --fill-color: #D2E3FC;\n",
              "      --hover-bg-color: #434B5C;\n",
              "      --hover-fill-color: #FFFFFF;\n",
              "      --disabled-bg-color: #3B4455;\n",
              "      --disabled-fill-color: #666;\n",
              "  }\n",
              "\n",
              "  .colab-df-quickchart {\n",
              "    background-color: var(--bg-color);\n",
              "    border: none;\n",
              "    border-radius: 50%;\n",
              "    cursor: pointer;\n",
              "    display: none;\n",
              "    fill: var(--fill-color);\n",
              "    height: 32px;\n",
              "    padding: 0;\n",
              "    width: 32px;\n",
              "  }\n",
              "\n",
              "  .colab-df-quickchart:hover {\n",
              "    background-color: var(--hover-bg-color);\n",
              "    box-shadow: 0 1px 2px rgba(60, 64, 67, 0.3), 0 1px 3px 1px rgba(60, 64, 67, 0.15);\n",
              "    fill: var(--button-hover-fill-color);\n",
              "  }\n",
              "\n",
              "  .colab-df-quickchart-complete:disabled,\n",
              "  .colab-df-quickchart-complete:disabled:hover {\n",
              "    background-color: var(--disabled-bg-color);\n",
              "    fill: var(--disabled-fill-color);\n",
              "    box-shadow: none;\n",
              "  }\n",
              "\n",
              "  .colab-df-spinner {\n",
              "    border: 2px solid var(--fill-color);\n",
              "    border-color: transparent;\n",
              "    border-bottom-color: var(--fill-color);\n",
              "    animation:\n",
              "      spin 1s steps(1) infinite;\n",
              "  }\n",
              "\n",
              "  @keyframes spin {\n",
              "    0% {\n",
              "      border-color: transparent;\n",
              "      border-bottom-color: var(--fill-color);\n",
              "      border-left-color: var(--fill-color);\n",
              "    }\n",
              "    20% {\n",
              "      border-color: transparent;\n",
              "      border-left-color: var(--fill-color);\n",
              "      border-top-color: var(--fill-color);\n",
              "    }\n",
              "    30% {\n",
              "      border-color: transparent;\n",
              "      border-left-color: var(--fill-color);\n",
              "      border-top-color: var(--fill-color);\n",
              "      border-right-color: var(--fill-color);\n",
              "    }\n",
              "    40% {\n",
              "      border-color: transparent;\n",
              "      border-right-color: var(--fill-color);\n",
              "      border-top-color: var(--fill-color);\n",
              "    }\n",
              "    60% {\n",
              "      border-color: transparent;\n",
              "      border-right-color: var(--fill-color);\n",
              "    }\n",
              "    80% {\n",
              "      border-color: transparent;\n",
              "      border-right-color: var(--fill-color);\n",
              "      border-bottom-color: var(--fill-color);\n",
              "    }\n",
              "    90% {\n",
              "      border-color: transparent;\n",
              "      border-bottom-color: var(--fill-color);\n",
              "    }\n",
              "  }\n",
              "</style>\n",
              "\n",
              "      <script>\n",
              "        async function quickchart(key) {\n",
              "          const quickchartButtonEl =\n",
              "            document.querySelector('#' + key + ' button');\n",
              "          quickchartButtonEl.disabled = true;  // To prevent multiple clicks.\n",
              "          quickchartButtonEl.classList.add('colab-df-spinner');\n",
              "          try {\n",
              "            const charts = await google.colab.kernel.invokeFunction(\n",
              "                'suggestCharts', [key], {});\n",
              "          } catch (error) {\n",
              "            console.error('Error during call to suggestCharts:', error);\n",
              "          }\n",
              "          quickchartButtonEl.classList.remove('colab-df-spinner');\n",
              "          quickchartButtonEl.classList.add('colab-df-quickchart-complete');\n",
              "        }\n",
              "        (() => {\n",
              "          let quickchartButtonEl =\n",
              "            document.querySelector('#df-9515de30-f4f8-4a0d-89a6-08686488ff0c button');\n",
              "          quickchartButtonEl.style.display =\n",
              "            google.colab.kernel.accessAllowed ? 'block' : 'none';\n",
              "        })();\n",
              "      </script>\n",
              "    </div>\n",
              "\n",
              "  <div id=\"id_881ed617-475a-4010-979f-ee1f495f6f6b\">\n",
              "    <style>\n",
              "      .colab-df-generate {\n",
              "        background-color: #E8F0FE;\n",
              "        border: none;\n",
              "        border-radius: 50%;\n",
              "        cursor: pointer;\n",
              "        display: none;\n",
              "        fill: #1967D2;\n",
              "        height: 32px;\n",
              "        padding: 0 0 0 0;\n",
              "        width: 32px;\n",
              "      }\n",
              "\n",
              "      .colab-df-generate:hover {\n",
              "        background-color: #E2EBFA;\n",
              "        box-shadow: 0px 1px 2px rgba(60, 64, 67, 0.3), 0px 1px 3px 1px rgba(60, 64, 67, 0.15);\n",
              "        fill: #174EA6;\n",
              "      }\n",
              "\n",
              "      [theme=dark] .colab-df-generate {\n",
              "        background-color: #3B4455;\n",
              "        fill: #D2E3FC;\n",
              "      }\n",
              "\n",
              "      [theme=dark] .colab-df-generate:hover {\n",
              "        background-color: #434B5C;\n",
              "        box-shadow: 0px 1px 3px 1px rgba(0, 0, 0, 0.15);\n",
              "        filter: drop-shadow(0px 1px 2px rgba(0, 0, 0, 0.3));\n",
              "        fill: #FFFFFF;\n",
              "      }\n",
              "    </style>\n",
              "    <button class=\"colab-df-generate\" onclick=\"generateWithVariable('european_tri_df')\"\n",
              "            title=\"Generate code using this dataframe.\"\n",
              "            style=\"display:none;\">\n",
              "\n",
              "  <svg xmlns=\"http://www.w3.org/2000/svg\" height=\"24px\"viewBox=\"0 0 24 24\"\n",
              "       width=\"24px\">\n",
              "    <path d=\"M7,19H8.4L18.45,9,17,7.55,7,17.6ZM5,21V16.75L18.45,3.32a2,2,0,0,1,2.83,0l1.4,1.43a1.91,1.91,0,0,1,.58,1.4,1.91,1.91,0,0,1-.58,1.4L9.25,21ZM18.45,9,17,7.55Zm-12,3A5.31,5.31,0,0,0,4.9,8.1,5.31,5.31,0,0,0,1,6.5,5.31,5.31,0,0,0,4.9,4.9,5.31,5.31,0,0,0,6.5,1,5.31,5.31,0,0,0,8.1,4.9,5.31,5.31,0,0,0,12,6.5,5.46,5.46,0,0,0,6.5,12Z\"/>\n",
              "  </svg>\n",
              "    </button>\n",
              "    <script>\n",
              "      (() => {\n",
              "      const buttonEl =\n",
              "        document.querySelector('#id_881ed617-475a-4010-979f-ee1f495f6f6b button.colab-df-generate');\n",
              "      buttonEl.style.display =\n",
              "        google.colab.kernel.accessAllowed ? 'block' : 'none';\n",
              "\n",
              "      buttonEl.onclick = () => {\n",
              "        google.colab.notebook.generateWithVariable('european_tri_df');\n",
              "      }\n",
              "      })();\n",
              "    </script>\n",
              "  </div>\n",
              "\n",
              "    </div>\n",
              "  </div>\n"
            ],
            "application/vnd.google.colaboratory.intrinsic+json": {
              "type": "dataframe",
              "variable_name": "european_tri_df",
              "summary": "{\n  \"name\": \"european_tri_df\",\n  \"rows\": 5,\n  \"fields\": [\n    {\n      \"column\": \"Strike Price\",\n      \"properties\": {\n        \"dtype\": \"number\",\n        \"std\": 7.905694150420953,\n        \"min\": 90.0,\n        \"max\": 110.00000000000001,\n        \"num_unique_values\": 5,\n        \"samples\": [\n          95.0,\n          110.00000000000001,\n          100.0\n        ],\n        \"semantic_type\": \"\",\n        \"description\": \"\"\n      }\n    },\n    {\n      \"column\": \"Call Option Price\",\n      \"properties\": {\n        \"dtype\": \"number\",\n        \"std\": 4.227295825938847,\n        \"min\": 1.19,\n        \"max\": 11.67,\n        \"num_unique_values\": 5,\n        \"samples\": [\n          7.72,\n          1.19,\n          4.61\n        ],\n        \"semantic_type\": \"\",\n        \"description\": \"\"\n      }\n    },\n    {\n      \"column\": \"Put Option Price\",\n      \"properties\": {\n        \"dtype\": \"number\",\n        \"std\": 3.7636458388110854,\n        \"min\": 0.55,\n        \"max\": 9.83,\n        \"num_unique_values\": 5,\n        \"samples\": [\n          1.54,\n          9.83,\n          3.37\n        ],\n        \"semantic_type\": \"\",\n        \"description\": \"\"\n      }\n    },\n    {\n      \"column\": \"Parity\",\n      \"properties\": {\n        \"dtype\": \"boolean\",\n        \"num_unique_values\": 1,\n        \"samples\": [\n          true\n        ],\n        \"semantic_type\": \"\",\n        \"description\": \"\"\n      }\n    }\n  ]\n}"
            }
          },
          "metadata": {},
          "execution_count": 33
        }
      ]
    },
    {
      "cell_type": "markdown",
      "source": [
        "From the table, we can see that Put-call parity holds for the European options."
      ],
      "metadata": {
        "id": "HOIGmaS8sYDx"
      }
    },
    {
      "cell_type": "markdown",
      "source": [
        "# **Graphs**\n",
        "**Given Conditions:** (same as for American options) \\\\\n",
        "$S_0$ = [70, 80, 90, 100, 110, 120, 130, 140, 150]; \\\\\n",
        "$\\ $r = 5% \\\\\n",
        "$\\ $σ = 20% \\\\\n",
        "$\\ $T = 3 months \\\\\n",
        "$\\ $N = 100  \\\\\n",
        "$\\ $K = [80, 85, 90, 95, 100, 105, 110, 115, 120]:"
      ],
      "metadata": {
        "id": "blg9fflgyRsr"
      }
    },
    {
      "cell_type": "code",
      "source": [
        "def option_v_stock(stock_price):\n",
        "    # Initialising\n",
        "    euro_call_price =[]\n",
        "    euro_put_price = []\n",
        "    am_call_price = []\n",
        "    am_put_price = []\n",
        "\n",
        "    # Pricing European call and put\n",
        "    for S in stock_price:\n",
        "      price_call = european_option(S, 100, 3/12, 0.05, 0.20,  100, \"C\")[0]\n",
        "      euro_call_price.append(price_call)\n",
        "      price_put = european_option(S, 100, 3/12, 0.05, 0.20,  100, \"P\")[0]\n",
        "      euro_put_price.append(price_put)\n",
        "      price_call_am = american_option(S, 100, 3/12, 0.05, 0.20,  100, \"C\")[0]\n",
        "      am_call_price.append(price_call_am)\n",
        "      price_put_am = american_option(S, 100, 3/12, 0.05, 0.20,  100, \"P\")[0]\n",
        "      am_put_price.append(price_put_am)\n",
        "\n",
        "    return euro_call_price, euro_put_price, am_call_price, am_put_price\n"
      ],
      "metadata": {
        "id": "Dxb5a-lF9G05"
      },
      "execution_count": 34,
      "outputs": []
    },
    {
      "cell_type": "code",
      "source": [
        "def option_v_strike(strike_price):\n",
        "    # Initialising\n",
        "    euro_call_price =[]\n",
        "    euro_put_price = []\n",
        "    am_call_price = []\n",
        "    am_put_price = []\n",
        "\n",
        "    # Pricing European call and put\n",
        "    for K in strike_price:\n",
        "      price_call = european_option(100, K, 3/12, 0.05, 0.20,  100, \"C\")[0]\n",
        "      euro_call_price.append(price_call)\n",
        "      price_put = european_option(100, K, 3/12, 0.05, 0.20,  100, \"P\")[0]\n",
        "      euro_put_price.append(price_put)\n",
        "      price_call_am = american_option(100, K, 3/12, 0.05, 0.20,  100, \"C\")[0]\n",
        "      am_call_price.append(price_call_am)\n",
        "      price_put_am = american_option(100, K, 3/12, 0.05, 0.20,  100, \"P\")[0]\n",
        "      am_put_price.append(price_put_am)\n",
        "\n",
        "    return euro_call_price, euro_put_price, am_call_price, am_put_price"
      ],
      "metadata": {
        "id": "v_gkDraMB37K"
      },
      "execution_count": 35,
      "outputs": []
    },
    {
      "cell_type": "code",
      "source": [
        "# Array of Stock Price\n",
        "stock_price = np.arange(70, 160, 10)\n",
        "# Array of Strike Price\n",
        "strike_price = np.arange(80, 125, 5)\n",
        "\n",
        "stock_euro_call, stock_euro_put, stock_am_call, stock_am_put = option_v_stock(stock_price)\n",
        "strike_euro_call, strike_euro_put, strike_am_call, strike_am_put = option_v_strike(strike_price)"
      ],
      "metadata": {
        "id": "Y1lZ1QyLB4oo"
      },
      "execution_count": 36,
      "outputs": []
    },
    {
      "cell_type": "code",
      "source": [
        "#1. Graph European call prices and put prices versus stock prices.\n",
        "plt.figure(figsize=(10,4))\n",
        "plt.plot(stock_price, stock_euro_call, label='European Calls', marker='o')\n",
        "plt.plot(stock_price, stock_euro_put, label='European Puts', marker='s')\n",
        "plt.xticks(stock_price)\n",
        "plt.xlabel('Stock Price')\n",
        "plt.ylabel('Option Price')\n",
        "plt.title('European Call and Put Prices vs Stock Prices')\n",
        "plt.legend()\n",
        "plt.grid(True)\n",
        "plt.show()"
      ],
      "metadata": {
        "colab": {
          "base_uri": "https://localhost:8080/",
          "height": 410
        },
        "id": "o7JKL20SyYRh",
        "outputId": "beb670b8-04e8-44e6-e471-89fa9b45ef95"
      },
      "execution_count": 37,
      "outputs": [
        {
          "output_type": "display_data",
          "data": {
            "text/plain": [
              "<Figure size 1000x400 with 1 Axes>"
            ],
            "image/png": "[encoded data removed]"
          },
          "metadata": {}
        }
      ]
    },
    {
      "cell_type": "code",
      "source": [
        "#2. Graph American call prices and put prices versus stock prices.\n",
        "plt.figure(figsize=(10,4))\n",
        "plt.plot(stock_price, stock_am_call, label='American Calls', marker='o')\n",
        "plt.plot(stock_price, stock_am_put, label='American Puts', marker='s')\n",
        "plt.xticks(stock_price)\n",
        "plt.xlabel('Stock Price')\n",
        "plt.ylabel('Option Price')\n",
        "plt.title('American Call and Put Prices vs Stock Prices')\n",
        "plt.legend()\n",
        "plt.grid(True)\n",
        "plt.show()\n"
      ],
      "metadata": {
        "colab": {
          "base_uri": "https://localhost:8080/",
          "height": 410
        },
        "id": "KK7jVUnlzA5R",
        "outputId": "d25b5a82-9f30-49ba-babf-8ad947a2f264"
      },
      "execution_count": 38,
      "outputs": [
        {
          "output_type": "display_data",
          "data": {
            "text/plain": [
              "<Figure size 1000x400 with 1 Axes>"
            ],
            "image/png": "[encoded data removed]"
          },
          "metadata": {}
        }
      ]
    },
    {
      "cell_type": "code",
      "source": [
        "#3. Graph European and American call prices versus strike.\n",
        "plt.figure(figsize=(10,4))\n",
        "plt.plot(strike_price, strike_euro_call, label='European Calls', marker='o')\n",
        "plt.plot(strike_price, strike_am_call, label='American Calls', marker='s')\n",
        "plt.xticks(strike_price)\n",
        "plt.xlabel('Strike Price')\n",
        "plt.ylabel('Option Price')\n",
        "plt.title('European and American Call Prices vs Strike Prices')\n",
        "plt.legend()\n",
        "plt.grid(True)\n",
        "plt.show()"
      ],
      "metadata": {
        "colab": {
          "base_uri": "https://localhost:8080/",
          "height": 410
        },
        "id": "ukU6ZOVazHiB",
        "outputId": "9addd401-33f1-4582-85a8-b40dcc59b3fa"
      },
      "execution_count": 39,
      "outputs": [
        {
          "output_type": "display_data",
          "data": {
            "text/plain": [
              "<Figure size 1000x400 with 1 Axes>"
            ],
            "image/png": "[encoded data removed]"
          },
          "metadata": {}
        }
      ]
    },
    {
      "cell_type": "code",
      "source": [
        "#4. Graph European and American put prices versus strike.\n",
        "plt.figure(figsize=(10,4))\n",
        "plt.plot(strike_price, strike_euro_put, label='European Puts')\n",
        "plt.plot(strike_price, strike_am_put, label='American Puts')\n",
        "plt.xticks(strike_price)\n",
        "plt.xlabel('Strike Price')\n",
        "plt.ylabel('Option Price')\n",
        "plt.title('European and American Put Prices vs Strike Prices')\n",
        "plt.legend()\n",
        "plt.grid(True)\n",
        "plt.show()"
      ],
      "metadata": {
        "colab": {
          "base_uri": "https://localhost:8080/",
          "height": 410
        },
        "id": "EQcrDhQhzHxD",
        "outputId": "351d031a-55e8-430b-a6ef-f0906b05bfdc"
      },
      "execution_count": 40,
      "outputs": [
        {
          "output_type": "display_data",
          "data": {
            "text/plain": [
              "<Figure size 1000x400 with 1 Axes>"
            ],
            "image/png": "[encoded data removed]"
          },
          "metadata": {}
        }
      ]
    },
    {
      "cell_type": "code",
      "source": [],
      "metadata": {
        "id": "rd6idwK9MsI1"
      },
      "execution_count": 40,
      "outputs": []
    },
    {
      "cell_type": "code",
      "source": [],
      "metadata": {
        "id": "ASxinLi0Msei"
      },
      "execution_count": 40,
      "outputs": []
    },
    {
      "cell_type": "code",
      "source": [],
      "metadata": {
        "id": "bUwSYZcJMsxc"
      },
      "execution_count": 40,
      "outputs": []
    }
  ]
}